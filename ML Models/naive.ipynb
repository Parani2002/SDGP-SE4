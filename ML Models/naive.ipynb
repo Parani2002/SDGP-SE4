{
 "cells": [
  {
   "cell_type": "code",
   "execution_count": 1,
   "metadata": {},
   "outputs": [
    {
     "name": "stdout",
     "output_type": "stream",
     "text": [
      "                               career name in demand for the next 10 years?\n",
      "0  Artificial-Intelligence-(AI)-Specialist                              yes\n",
      "1                Machine Learning Engineer                              yes\n",
      "2                           Data Scientist                              yes\n",
      "3                    Cybersecurity Analyst                              yes\n",
      "4                          Cloud Architect                              yes\n",
      "found 200 datas\n",
      "in demand for the next 10 years?\n",
      "yes    100\n",
      "no     100\n",
      "Name: count, dtype: int64\n",
      "<bound method NDFrame.head of                               type of career in demand\n",
      "0    Artificial-Intelligence-(AI)-Specialist       yes\n",
      "1                  Machine Learning Engineer       yes\n",
      "2                             Data Scientist       yes\n",
      "3                      Cybersecurity Analyst       yes\n",
      "4                            Cloud Architect       yes\n",
      "..                                       ...       ...\n",
      "195                              Food Server        no\n",
      "196                                Bartender        no\n",
      "197                               Tour Guide        no\n",
      "198                           Museum Curator        no\n",
      "199                            Archaeologist        no\n",
      "\n",
      "[200 rows x 2 columns]>\n"
     ]
    },
    {
     "name": "stderr",
     "output_type": "stream",
     "text": [
      "/var/folders/5y/q807tqrn4sz6_pmrttb197f00000gn/T/ipykernel_10783/3576412906.py:29: UserWarning: set_ticklabels() should only be used with a fixed number of ticks, i.e. after set_ticks() or using a FixedLocator.\n",
      "  df_label.set_xticklabels(df['in demand'].unique())\n"
     ]
    },
    {
     "data": {
      "image/png": "[encoded data removed]",
      "text/plain": [
       "<Figure size 640x480 with 1 Axes>"
      ]
     },
     "metadata": {},
     "output_type": "display_data"
    },
    {
     "name": "stdout",
     "output_type": "stream",
     "text": [
      "in demand\n",
      "in demand        100\n",
      "not in demand    100\n",
      "Name: count, dtype: int64\n",
      "Prediction for 'doctor': in demand\n",
      "Accuracy: 0.675\n",
      "Classification Report:\n",
      "               precision    recall  f1-score   support\n",
      "\n",
      "    in demand       0.75      0.57      0.65        21\n",
      "not in demand       0.62      0.79      0.70        19\n",
      "\n",
      "     accuracy                           0.68        40\n",
      "    macro avg       0.69      0.68      0.67        40\n",
      " weighted avg       0.69      0.68      0.67        40\n",
      "\n"
     ]
    }
   ],
   "source": [
    "import pandas as pd\n",
    "import seaborn as sns\n",
    "import matplotlib.pyplot as plt\n",
    "from sklearn.feature_extraction.text import TfidfVectorizer\n",
    "from sklearn.model_selection import train_test_split\n",
    "from sklearn.naive_bayes import MultinomialNB\n",
    "from sklearn.metrics import classification_report,accuracy_score\n",
    "import pickle\n",
    "\n",
    "path = 'dataset.csv'\n",
    "df = pd.read_csv(path)\n",
    "df.head()\n",
    "\n",
    "df = df.drop(['career pathway'], axis=1)\n",
    "print(df.head())\n",
    "\n",
    "print('found %s datas'% len(df))\n",
    "\n",
    "print(df['in demand for the next 10 years?'].value_counts())\n",
    "\n",
    "df = df.rename(columns={'career name': 'type of career', 'in demand for the next 10 years?': 'in demand'})\n",
    "print(df.head)\n",
    "df['in demand'] = df['in demand'].map({'yes': 'in demand', 'no': 'not in demand'})\n",
    "\n",
    "\n",
    "df = df.groupby('in demand').head(200)\n",
    "\n",
    "df_label = sns.countplot(x='in demand', data=df)\n",
    "df_label.set_xticklabels(df['in demand'].unique())\n",
    "plt.show()\n",
    "\n",
    "print(df['in demand'].value_counts())\n",
    "\n",
    "tfidf = TfidfVectorizer()\n",
    "X = tfidf.fit_transform(df['type of career'])\n",
    "y = df['in demand']\n",
    "\n",
    "X_train, X_test, y_train, y_test = train_test_split(X, y, test_size=0.2, random_state=42)\n",
    "clf_nb = MultinomialNB()\n",
    "clf_nb.fit(X_train, y_train)\n",
    "\n",
    "MultinomialNB()\n",
    "pred_nb = clf_nb.predict(X_test)\n",
    "\n",
    "\n",
    "# Transform the input text using the TF-IDF vectorizer\n",
    "text = ['data scientist']\n",
    "text_features = tfidf.transform(text)\n",
    "\n",
    "# Use the trained Naive Bayes classifier to predict the label\n",
    "prediction = clf_nb.predict(text_features)\n",
    "\n",
    "# Print the prediction\n",
    "print(\"Prediction for 'doctor':\", prediction[0])\n",
    "\n",
    "\n",
    "pickle.dump(clf_nb, open(\"naive_model.pkl\",'wb'))\n",
    "\n",
    "# Calculate accuracy\n",
    "accuracy = accuracy_score(y_test, pred_nb)\n",
    "print(\"Accuracy:\", accuracy)\n",
    "\n",
    "from sklearn.metrics import classification_report\n",
    "\n",
    "# Generate classification report\n",
    "report = classification_report(y_test, pred_nb)\n",
    "\n",
    "# Print the classification report\n",
    "print(\"Classification Report:\")\n",
    "print(report)\n",
    "\n",
    "\n",
    "\n",
    "\n"
   ]
  }
 ],
 "metadata": {
  "kernelspec": {
   "display_name": "Python 3",
   "language": "python",
   "name": "python3"
  },
  "language_info": {
   "codemirror_mode": {
    "name": "ipython",
    "version": 3
   },
   "file_extension": ".py",
   "mimetype": "text/x-python",
   "name": "python",
   "nbconvert_exporter": "python",
   "pygments_lexer": "ipython3",
   "version": "3.12.1"
  }
 },
 "nbformat": 4,
 "nbformat_minor": 2
}
