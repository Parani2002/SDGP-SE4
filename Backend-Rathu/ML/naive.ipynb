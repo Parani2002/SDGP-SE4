{
 "cells": [
  {
   "cell_type": "code",
   "execution_count": null,
   "metadata": {},
   "outputs": [],
   "source": [
    "import pandas as pd\n",
    "import seaborn as sns\n",
    "import matplotlib.pyplot as plt\n",
    "from sklearn.feature_extraction.text import TfidfVectorizer\n",
    "from sklearn.model_selection import train_test_split\n",
    "from sklearn.naive_bayes import MultinomialNB\n",
    "from sklearn.metrics import classification_report,accuracy_score\n",
    "import pickle\n",
    "\n",
    "path = 'dataset.csv'\n",
    "df = pd.read_csv(path)"
   ]
  },
  {
   "cell_type": "code",
   "execution_count": null,
   "metadata": {},
   "outputs": [],
   "source": [
    "df = df.drop(['career pathway'], axis=1)\n",
    "print(df.head())\n",
    "\n",
    "print('found %s datas'% len(df))\n",
    "\n",
    "print(df['in demand for the next 10 years?'].value_counts())\n",
    "\n",
    "df = df.rename(columns={'career name': 'type of career', 'in demand for the next 10 years?': 'in demand'})\n",
    "print(df.head)\n",
    "df['in demand'] = df['in demand'].map({'yes': 'in demand', 'no': 'not in demand'})\n",
    "\n",
    "\n",
    "df = df.groupby('in demand').head(200)\n",
    "\n",
    "df_label = sns.countplot(x='in demand', data=df)\n",
    "df_label.set_xticklabels(df['in demand'].unique())\n",
    "plt.show()\n",
    "\n",
    "print(df['in demand'].value_counts())\n",
    "\n",
    "tfidf = TfidfVectorizer()\n",
    "X = tfidf.fit_transform(df['type of career'])\n",
    "y = df['in demand']"
   ]
  }
 ],
 "metadata": {
  "language_info": {
   "name": "python"
  }
 },
 "nbformat": 4,
 "nbformat_minor": 2
}
