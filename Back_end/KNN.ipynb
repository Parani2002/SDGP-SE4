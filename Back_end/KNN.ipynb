{
  "cells": [
    {
      "cell_type": "markdown",
      "metadata": {
        "id": "KgcazQfER98t"
      },
      "source": [
        "# **Importing Libs**\n",
        "\n"
      ]
    },
    {
      "cell_type": "code",
      "execution_count": 512,
      "metadata": {
        "id": "dyk6ODPwRpxP"
      },
      "outputs": [],
      "source": [
        "import pandas as pd\n",
        "import numpy as np"
      ]
    },
    {
      "cell_type": "code",
      "execution_count": 513,
      "metadata": {
        "id": "s8iwLGxIR2vj"
      },
      "outputs": [],
      "source": [
        "df = pd.read_csv('dataset1.csv')"
      ]
    },
    {
      "cell_type": "code",
      "execution_count": 514,
      "metadata": {
        "colab": {
          "base_uri": "https://localhost:8080/"
        },
        "id": "cMqG-SvYSqUz",
        "outputId": "0390727f-27bd-4d45-e3ca-f585317ab349"
      },
      "outputs": [
        {
          "data": {
            "text/plain": [
              "(1195, 6)"
            ]
          },
          "execution_count": 514,
          "metadata": {},
          "output_type": "execute_result"
        }
      ],
      "source": [
        "df.shape"
      ]
    },
    {
      "cell_type": "code",
      "execution_count": 515,
      "metadata": {
        "colab": {
          "base_uri": "https://localhost:8080/",
          "height": 206
        },
        "id": "3INVtkzvSsCe",
        "outputId": "5653790a-718d-4b72-b192-912e4cddd02c"
      },
      "outputs": [
        {
          "data": {
            "text/html": [
              "<div>\n",
              "<style scoped>\n",
              "    .dataframe tbody tr th:only-of-type {\n",
              "        vertical-align: middle;\n",
              "    }\n",
              "\n",
              "    .dataframe tbody tr th {\n",
              "        vertical-align: top;\n",
              "    }\n",
              "\n",
              "    .dataframe thead th {\n",
              "        text-align: right;\n",
              "    }\n",
              "</style>\n",
              "<table border=\"1\" class=\"dataframe\">\n",
              "  <thead>\n",
              "    <tr style=\"text-align: right;\">\n",
              "      <th></th>\n",
              "      <th>Gender</th>\n",
              "      <th>Interest</th>\n",
              "      <th>Skills</th>\n",
              "      <th>Any_Add_Cert_Courses</th>\n",
              "      <th>Cert_Courses_Desc</th>\n",
              "      <th>Course</th>\n",
              "    </tr>\n",
              "  </thead>\n",
              "  <tbody>\n",
              "    <tr>\n",
              "      <th>0</th>\n",
              "      <td>Female</td>\n",
              "      <td>Cloud computing</td>\n",
              "      <td>Python;SQL;Java</td>\n",
              "      <td>Yes</td>\n",
              "      <td>Linux,Git</td>\n",
              "      <td>B.Sc</td>\n",
              "    </tr>\n",
              "    <tr>\n",
              "      <th>1</th>\n",
              "      <td>Male</td>\n",
              "      <td>Technology</td>\n",
              "      <td>Critical Thinking, Analytic Thinking, SQL, Pro...</td>\n",
              "      <td>Yes</td>\n",
              "      <td>Microsoft certification</td>\n",
              "      <td>B.E</td>\n",
              "    </tr>\n",
              "    <tr>\n",
              "      <th>2</th>\n",
              "      <td>Female</td>\n",
              "      <td>Understand human behaviour</td>\n",
              "      <td>People management;Communication skills</td>\n",
              "      <td>Yes</td>\n",
              "      <td>Resilience psychology</td>\n",
              "      <td>BA</td>\n",
              "    </tr>\n",
              "    <tr>\n",
              "      <th>3</th>\n",
              "      <td>Female</td>\n",
              "      <td>Sales/Marketing;Trading;Understand human behav...</td>\n",
              "      <td>Accounting Skills;Critical Thinking</td>\n",
              "      <td>No</td>\n",
              "      <td>No</td>\n",
              "      <td>MBA</td>\n",
              "    </tr>\n",
              "    <tr>\n",
              "      <th>4</th>\n",
              "      <td>Female</td>\n",
              "      <td>Technology</td>\n",
              "      <td>\\r\\nPLC Allen Bradley;PLC Ladder Logic;LabVIEW...</td>\n",
              "      <td>Yes</td>\n",
              "      <td>Extreme Productivity (Blinkist Summary)</td>\n",
              "      <td>B.Tech</td>\n",
              "    </tr>\n",
              "  </tbody>\n",
              "</table>\n",
              "</div>"
            ],
            "text/plain": [
              "   Gender                                           Interest  \\\n",
              "0  Female                                    Cloud computing   \n",
              "1    Male                                         Technology   \n",
              "2  Female                         Understand human behaviour   \n",
              "3  Female  Sales/Marketing;Trading;Understand human behav...   \n",
              "4  Female                                         Technology   \n",
              "\n",
              "                                              Skills Any_Add_Cert_Courses  \\\n",
              "0                                    Python;SQL;Java                  Yes   \n",
              "1  Critical Thinking, Analytic Thinking, SQL, Pro...                  Yes   \n",
              "2             People management;Communication skills                  Yes   \n",
              "3                Accounting Skills;Critical Thinking                   No   \n",
              "4  \\r\\nPLC Allen Bradley;PLC Ladder Logic;LabVIEW...                  Yes   \n",
              "\n",
              "                         Cert_Courses_Desc  Course  \n",
              "0                                Linux,Git    B.Sc  \n",
              "1                 Microsoft certification      B.E  \n",
              "2                    Resilience psychology      BA  \n",
              "3                                       No     MBA  \n",
              "4  Extreme Productivity (Blinkist Summary)  B.Tech  "
            ]
          },
          "execution_count": 515,
          "metadata": {},
          "output_type": "execute_result"
        }
      ],
      "source": [
        "df.head()"
      ]
    },
    {
      "cell_type": "code",
      "execution_count": 516,
      "metadata": {
        "id": "S35I_JxYS-1Y"
      },
      "outputs": [],
      "source": [
        "X_Values = df.iloc[:,:-1].values\n",
        "Y_Values = df.iloc[:,-1:].values"
      ]
    },
    {
      "cell_type": "code",
      "execution_count": 517,
      "metadata": {
        "colab": {
          "base_uri": "https://localhost:8080/"
        },
        "id": "L-pBDc_LUqkz",
        "outputId": "f705cd1d-3e85-4e83-eb1f-030a30f5fbb9"
      },
      "outputs": [
        {
          "data": {
            "text/plain": [
              "array([['Female', 'Cloud computing', 'Python;SQL;Java', 'Yes',\n",
              "        'Linux,Git'],\n",
              "       ['Male', 'Technology',\n",
              "        'Critical Thinking, Analytic Thinking, SQL, Programming, Work under Pressure, Logical Skills, Problem Solving skills',\n",
              "        'Yes', 'Microsoft certification\\xa0'],\n",
              "       ['Female', 'Understand human behaviour',\n",
              "        'People management;Communication skills', 'Yes',\n",
              "        'Resilience psychology'],\n",
              "       ...,\n",
              "       ['Male', 'Technology;Content Writing',\n",
              "        'Programming Language skills;Critical Thinking;Analytical Skills;Editing;Data Visualization skills( Power Bi/ Tableau );SQL',\n",
              "        'Yes', 'Sql, Python,tableau,data science'],\n",
              "       ['Male', 'Financial Analysis, Technology',\n",
              "        'AI, Java, SQL, C++, R, Linux', 'No', 'No'],\n",
              "       ['Male', 'Animation', '2D/3D Animation', 'Yes', '3D Animation']],\n",
              "      dtype=object)"
            ]
          },
          "execution_count": 517,
          "metadata": {},
          "output_type": "execute_result"
        }
      ],
      "source": [
        "X_Values"
      ]
    },
    {
      "cell_type": "code",
      "execution_count": 518,
      "metadata": {
        "colab": {
          "base_uri": "https://localhost:8080/"
        },
        "id": "HYjfFnLzUsmi",
        "outputId": "7df6edbc-27a2-414e-e03b-a0496191376b"
      },
      "outputs": [
        {
          "data": {
            "text/plain": [
              "array([['B.Sc'],\n",
              "       ['B.E'],\n",
              "       ['BA'],\n",
              "       ...,\n",
              "       ['B.Tech'],\n",
              "       ['BE'],\n",
              "       ['B.Sc']], dtype=object)"
            ]
          },
          "execution_count": 518,
          "metadata": {},
          "output_type": "execute_result"
        }
      ],
      "source": [
        "Y_Values"
      ]
    },
    {
      "cell_type": "code",
      "execution_count": 519,
      "metadata": {
        "id": "2zAGzZWdVJrO"
      },
      "outputs": [],
      "source": [
        "from sklearn.model_selection import train_test_split\n",
        "\n",
        "# Spliting train and test values\n",
        "X_train, X_test, Y_train, Y_test = train_test_split(X_Values,Y_Values,test_size=1/3,random_state=0)"
      ]
    },
    {
      "cell_type": "code",
      "execution_count": 520,
      "metadata": {
        "colab": {
          "base_uri": "https://localhost:8080/"
        },
        "id": "a6KYV9sMZECe",
        "outputId": "d02872d7-95b5-46e4-c576-9f192af94da2"
      },
      "outputs": [
        {
          "data": {
            "text/plain": [
              "array(['Male',\n",
              "       'Sales/Marketing;Technology;Content Writing;Market reserach',\n",
              "       'Critical Thinking;Business Knowledge;Analytical Skills;Leadership;Writing skills;Python;Artificial Intelligence;SQL',\n",
              "       'No', 'No'], dtype=object)"
            ]
          },
          "execution_count": 520,
          "metadata": {},
          "output_type": "execute_result"
        }
      ],
      "source": [
        "X_test[0]"
      ]
    },
    {
      "cell_type": "code",
      "execution_count": 521,
      "metadata": {},
      "outputs": [
        {
          "data": {
            "text/html": [
              "<div>\n",
              "<style scoped>\n",
              "    .dataframe tbody tr th:only-of-type {\n",
              "        vertical-align: middle;\n",
              "    }\n",
              "\n",
              "    .dataframe tbody tr th {\n",
              "        vertical-align: top;\n",
              "    }\n",
              "\n",
              "    .dataframe thead th {\n",
              "        text-align: right;\n",
              "    }\n",
              "</style>\n",
              "<table border=\"1\" class=\"dataframe\">\n",
              "  <thead>\n",
              "    <tr style=\"text-align: right;\">\n",
              "      <th></th>\n",
              "      <th>Gender</th>\n",
              "      <th>Interest</th>\n",
              "      <th>Skills</th>\n",
              "      <th>Any_Add_Cert_Courses</th>\n",
              "      <th>Cert_Courses_Desc</th>\n",
              "      <th>Course</th>\n",
              "    </tr>\n",
              "  </thead>\n",
              "  <tbody>\n",
              "    <tr>\n",
              "      <th>0</th>\n",
              "      <td>Female</td>\n",
              "      <td>Cloud computing</td>\n",
              "      <td>Python;SQL;Java</td>\n",
              "      <td>Yes</td>\n",
              "      <td>Linux,Git</td>\n",
              "      <td>B.Sc</td>\n",
              "    </tr>\n",
              "    <tr>\n",
              "      <th>1</th>\n",
              "      <td>Male</td>\n",
              "      <td>Technology</td>\n",
              "      <td>Critical Thinking, Analytic Thinking, SQL, Pro...</td>\n",
              "      <td>Yes</td>\n",
              "      <td>Microsoft certification</td>\n",
              "      <td>B.E</td>\n",
              "    </tr>\n",
              "    <tr>\n",
              "      <th>2</th>\n",
              "      <td>Female</td>\n",
              "      <td>Understand human behaviour</td>\n",
              "      <td>People management;Communication skills</td>\n",
              "      <td>Yes</td>\n",
              "      <td>Resilience psychology</td>\n",
              "      <td>BA</td>\n",
              "    </tr>\n",
              "    <tr>\n",
              "      <th>3</th>\n",
              "      <td>Female</td>\n",
              "      <td>Sales/Marketing;Trading;Understand human behav...</td>\n",
              "      <td>Accounting Skills;Critical Thinking</td>\n",
              "      <td>No</td>\n",
              "      <td>No</td>\n",
              "      <td>MBA</td>\n",
              "    </tr>\n",
              "    <tr>\n",
              "      <th>4</th>\n",
              "      <td>Female</td>\n",
              "      <td>Technology</td>\n",
              "      <td>\\r\\nPLC Allen Bradley;PLC Ladder Logic;LabVIEW...</td>\n",
              "      <td>Yes</td>\n",
              "      <td>Extreme Productivity (Blinkist Summary)</td>\n",
              "      <td>B.Tech</td>\n",
              "    </tr>\n",
              "    <tr>\n",
              "      <th>...</th>\n",
              "      <td>...</td>\n",
              "      <td>...</td>\n",
              "      <td>...</td>\n",
              "      <td>...</td>\n",
              "      <td>...</td>\n",
              "      <td>...</td>\n",
              "    </tr>\n",
              "    <tr>\n",
              "      <th>1189</th>\n",
              "      <td>Male</td>\n",
              "      <td>Technology</td>\n",
              "      <td>Communication skills;Data Visualization skills...</td>\n",
              "      <td>No</td>\n",
              "      <td>No</td>\n",
              "      <td>B.Sc</td>\n",
              "    </tr>\n",
              "    <tr>\n",
              "      <th>1190</th>\n",
              "      <td>Male</td>\n",
              "      <td>Technology</td>\n",
              "      <td>Python, SQL, Oracle</td>\n",
              "      <td>No</td>\n",
              "      <td>AWS cloud practitioner</td>\n",
              "      <td>B.Tech</td>\n",
              "    </tr>\n",
              "    <tr>\n",
              "      <th>1191</th>\n",
              "      <td>Male</td>\n",
              "      <td>Technology</td>\n",
              "      <td>SQL, Problem Solving skills</td>\n",
              "      <td>No</td>\n",
              "      <td>No</td>\n",
              "      <td>B.Sc</td>\n",
              "    </tr>\n",
              "    <tr>\n",
              "      <th>1192</th>\n",
              "      <td>Male</td>\n",
              "      <td>Technology;Content Writing</td>\n",
              "      <td>Programming Language skills;Critical Thinking;...</td>\n",
              "      <td>Yes</td>\n",
              "      <td>Sql, Python,tableau,data science</td>\n",
              "      <td>B.Tech</td>\n",
              "    </tr>\n",
              "    <tr>\n",
              "      <th>1193</th>\n",
              "      <td>Male</td>\n",
              "      <td>Financial Analysis, Technology</td>\n",
              "      <td>AI, Java, SQL, C++, R, Linux</td>\n",
              "      <td>No</td>\n",
              "      <td>No</td>\n",
              "      <td>BE</td>\n",
              "    </tr>\n",
              "  </tbody>\n",
              "</table>\n",
              "<p>1194 rows × 6 columns</p>\n",
              "</div>"
            ],
            "text/plain": [
              "      Gender                                           Interest  \\\n",
              "0     Female                                    Cloud computing   \n",
              "1       Male                                         Technology   \n",
              "2     Female                         Understand human behaviour   \n",
              "3     Female  Sales/Marketing;Trading;Understand human behav...   \n",
              "4     Female                                         Technology   \n",
              "...      ...                                                ...   \n",
              "1189    Male                                         Technology   \n",
              "1190    Male                                         Technology   \n",
              "1191    Male                                         Technology   \n",
              "1192    Male                         Technology;Content Writing   \n",
              "1193    Male                     Financial Analysis, Technology   \n",
              "\n",
              "                                                 Skills Any_Add_Cert_Courses  \\\n",
              "0                                       Python;SQL;Java                  Yes   \n",
              "1     Critical Thinking, Analytic Thinking, SQL, Pro...                  Yes   \n",
              "2                People management;Communication skills                  Yes   \n",
              "3                   Accounting Skills;Critical Thinking                   No   \n",
              "4     \\r\\nPLC Allen Bradley;PLC Ladder Logic;LabVIEW...                  Yes   \n",
              "...                                                 ...                  ...   \n",
              "1189  Communication skills;Data Visualization skills...                   No   \n",
              "1190                                Python, SQL, Oracle                   No   \n",
              "1191                        SQL, Problem Solving skills                   No   \n",
              "1192  Programming Language skills;Critical Thinking;...                  Yes   \n",
              "1193                       AI, Java, SQL, C++, R, Linux                   No   \n",
              "\n",
              "                            Cert_Courses_Desc  Course  \n",
              "0                                   Linux,Git    B.Sc  \n",
              "1                    Microsoft certification      B.E  \n",
              "2                       Resilience psychology      BA  \n",
              "3                                          No     MBA  \n",
              "4     Extreme Productivity (Blinkist Summary)  B.Tech  \n",
              "...                                       ...     ...  \n",
              "1189                                       No    B.Sc  \n",
              "1190                  AWS cloud practitioner   B.Tech  \n",
              "1191                                       No    B.Sc  \n",
              "1192         Sql, Python,tableau,data science  B.Tech  \n",
              "1193                                       No      BE  \n",
              "\n",
              "[1194 rows x 6 columns]"
            ]
          },
          "execution_count": 521,
          "metadata": {},
          "output_type": "execute_result"
        }
      ],
      "source": [
        "df.iloc[:-1]"
      ]
    },
    {
      "cell_type": "code",
      "execution_count": 522,
      "metadata": {},
      "outputs": [
        {
          "name": "stdout",
          "output_type": "stream",
          "text": [
            "['Python;SQL;Java', 'Critical Thinking, Analytic Thinking, SQL, Programming, Work under Pressure, Logical Skills, Problem Solving skills', 'People management;Communication skills', 'Accounting Skills;Critical Thinking', '\\r\\nPLC Allen Bradley;PLC Ladder Logic;LabVIEW;Business Analysis;End-to-End ProjectManagement;Crossfunctional Team Leadership;Requirements Gathering;Lean Six Sigma;Lean six sigma blackbelt;Productivity Improvement', 'C,C++,HTML,Java', 'Critical Thinking, Analytic Thinking, Communication Skills, Creativity Skills, Excel, Logical Skills, Interpersonal Skills, Presentation Skills, Problem Solving skills, Observation Skills, Reading', 'NO', 'Programming Language skills;Critical Thinking;Linux;Python;SQL;Java', 'Active Listening;Critical Thinking;Gathering Information;Artistic/Creative Skills;Communication skills;Leadership;Editing;Problem Solving skills;Writing skills;Medical knowledge;HR;Good communication skills;Teaching', 'Accounting Skills, Analytic Thinking, Cost Accounting, Team work, Excel, Problem Solving skills, Writing, Tableau', 'Analytic Thinking, Gathering Informing, Communication Skills, Team work, Presentation Skills, Problem Solving skills', 'Accounting Skills;Business Knowledge;Leadership;Problem Solving skills;Wealth Management', 'Critical Thinking;Gathering Information;Presentation Skills;Python;SQL;Good communication skills', 'Communication skills;Writing skills;C++;Python;SQL;Java;Cloud Computing', 'Analytical Skills;Data Visualization skills( Power Bi/ Tableau );Machine Learning skills;Python;SQL', 'Programming Language skills;Critical Thinking;Gathering Information;Leadership;Machine Learning skills;Python;Artificial Intelligence;SQL;Java;MATLAB;Good communication skills', 'Python, Critical Thinking, Analytic Thinking, Gathering Informing, SQL, Programming, Leadership, Product Knowledge, Cost Accounting, Market Study, Team work, Excel, Logical Skills, R, Problem Solving skills, Writing, Tableau', 'Matlab ;Embedded C; Arduino; C ++;c ;AVR;Eagle PCB;ARM Cortex-M;KiCAD;Software Project Management', 'Active Listening;Critical Thinking;Analytical Skills;People management;Communication skills;Leadership;Problem Solving skills;Designing skills;Proeficiency in Software like STAAD PRO, ETABS ', 'Hardware skills', 'Business Knowledge;Analytical Skills;Product knowledge;Problem Solving skills;Risk management skills;Designing skills;Machine Learning skills;Python;SQL;Cloud Computing;HR', 'Proeficiency in Software like STAAD PRO, ETABS;CAD/CAE(autocad/catia/ansys/proE/SeimensNX)', 'Accounting Skills;Active Listening;Critical Thinking;Gathering Information;Business Knowledge;Analytical Skills;Finance related skills;People management;Communication skills;Negotiation skills;Mass Communication;Leadership;Product knowledge;Problem Solving skills;Risk management skills;Data Visualization skills( Power Bi/ Tableau );Sales;Interpersonal skills;Wealth Management', 'Programming Language skills;Communication skills;Writing skills;Machine Learning skills;Sales;C++;R', 'Active Listening;Teaching', 'Business Knowledge;Civil & Criminal Law;Product knowledge', 'Critical Thinking;Problem Solving skills;Designing skills;Interpersonal skills;Python', 'Strategic Planning;Financial Analysis;Financial Modeling;Marketing Strategy;Financial Services', 'Business Knowledge, People Management, Communication Skills, Work under Pressure, Leadership, Market Study, Team work, Interpersonal Skills, Presentation Skills, Designing Skills, Sales, Design and analysis of automobile components, vehicle maintenance and reconditioning, design for manufacturer and assemble', 'Creativity Skills, Excel, Logical Skills, Observation Skills, Risk Managing, Designing Skills, Vlsi design,simulation,embedded,IOT', 'Python, Critical Thinking, Analytic Thinking, Java, SQL, Programming, Communication Skills, Negotiation Skills, Creativity Skills, Excel, Logical Skills, Interpersonal Skills, Presentation Skills, C++', 'Active Listening;Business Knowledge;Communication skills;Negotiation skills;Leadership;Product knowledge;Problem Solving skills;Sales;Interpersonal skills', 'Business Knowledge', 'Business Knowledge;Analytical Skills;Negotiation skills;Problem Solving skills;Data Visualization skills( Power Bi/ Tableau );Machine Learning skills;SQL', 'Active Listening;Business Knowledge;Risk management skills;Sales;Good communication skills', 'Accounting Skills;Programming Language skills;Critical Thinking;Business Knowledge;Analytical Skills;Finance related skills;Communication skills;Problem Solving skills;C++;Python;SQL', 'Active Listening, Creativity Skills, Team work, Logical Skills', 'Accounting Skills, Cost Accounting', 'Programming Language skills;People management;Mass Communication;Leadership;Designing skills;Writing skills;Architecture', 'Business Knowledge, Product Knowledge, Team work, Sales', 'Gathering Informing, People Management, Communication Skills, Work under Pressure, Leadership, Team work, Interpersonal Skills, Mass Communication, Observation Skills, Risk Managing', 'Sports', 'AI, ML, Python, Java, SQL, Tableau', 'Critical Thinking, Analytic Thinking, Product Knowledge, Team work, Excel, Observation Skills, Risk Managing, Reporting, Reading, Designing Skills', '\\r\\nDocker;Kubernetes;Amazon Web Services (AWS);Bash;Apache;\\r\\nNew Relic APM;Jenkins;Internet Information Services (IIS);Terraform;AKS;Continuous Integration and Continuous Delivery (CI/CD);Amazon EC2', 'Full stack, java, python, reactjs', 'Active Listening;Analytical Skills;Negotiation skills;Product knowledge;Problem Solving skills;Risk management skills;Machine Learning skills;Python', 'Web development (PHP, codeigniter), java development, graphic desiging, Android app development', 'Data Visualization skills( Power Bi/ Tableau );Python;SQL', 'Accounting Skills;Active Listening;Critical Thinking;Gathering Information;Artistic/Creative Skills;Business Knowledge;Communication skills;Social Media Marketing', 'Accounting Skills, Active Listening, AI, Python, Critical Thinking, Programming, Product Knowledge, Creativity Skills, Team work, Excel, Logical Skills, Presentation Skills, Problem Solving skills, Observation Skills, Risk Managing, Reading', 'CAD/CAE(autocad/catia/ansys/proE/SeimensNX)', 'Programming Language skills;Analytical Skills;Communication skills;Leadership;Editing;Problem Solving skills;Designing skills;Writing skills;Machine Learning skills;Sales;Social Media Marketing;R;Python;Artificial Intelligence;SQL;Architecture;MATLAB;Good communication skills;Teaching;AWS;PHP;Programming Language C;Javascript', 'Critical Thinking;Analytical Skills;Leadership;Problem Solving skills;Machine Learning skills;Python', 'Python, Java, SQL, Programming, Problem Solving skills', 'Active Listening, AI, ML, Python, Analytic Thinking, Editing, Creativity Skills, Team work, C++, Problem Solving skills, Mass Communication', 'Artistic/Creative Skills', 'Critical Thinking;Gathering Information;Business Knowledge;Analytical Skills;Finance related skills;People management;Civil & Criminal Law;Communication skills;Negotiation skills;Leadership;Product knowledge;Problem Solving skills;Risk management skills;Data Visualization skills( Power Bi/ Tableau );Machine Learning skills;Interpersonal skills;Python;SQL', 'Business Knowledge;Negotiation skills;Product knowledge;Sales', 'Designing skills', 'Company Law;Company Secretarial Work;Due Diligence;Corporate Law;industrial and labour law;company law;Corporate Social Responsibility;Public Company Compliance;Statutory Compliances;Regulatory Compliance', 'Active Listening;Programming Language skills;Communication skills;Client management;Good communication skills', 'Active Listening;Programming Language skills;Gathering Information;Mass Communication;Content creation', 'Analytic Thinking, Gathering Informing, SQL, Risk Managing', 'Analytical Skills;Data Visualization skills( Power Bi/ Tableau );Python;SQL', 'Business Knowledge;Analytical Skills;People management;Communication skills;Leadership;Product knowledge;Problem Solving skills;Risk management skills;Designing skills;Writing skills;Data Visualization skills( Power Bi/ Tableau );Presentation Skills;SQL;Hospitality;HR;Excel', 'Analytic Thinking, Logical Skills, C++, Writing', 'Active Listening;Negotiation skills', 'Java, SQL, Programming', 'stack web development', 'Programming Language skills;Business Knowledge;Analytical Skills;Communication skills;Python;SQL', 'Programming Language skills;Data Visualization skills( Power Bi/ Tableau );Machine Learning skills;C++;R;Linux;Python;Artificial Intelligence;SQL;Java', 'Critical Thinking;Business Knowledge;Communication skills;Negotiation skills;Artificial Intelligence', 'Business Knowledge;People management;Communication skills;Product knowledge;Sales;Social Media Marketing', 'Agile Methodologies;Usability Testing;C++;Microsoft OfficeBentley InRoadsProduct Requirements;User Stories;Metrics;Product Management;Product Innovation;User Experience (UX);Research;Business Development;Digital Marketing;\\r\\n', '\\r\\nPower Electronics;Simulink;Inverters;Matlab;PLC;Variable Frequency Drives;Switchgear;Industrial Control', 'Programming Language skills;People management;Communication skills;Editing;C++;SQL', 'Active Listening;Hardware skills;Programming Language skills;Critical Thinking;Gathering Information', 'Analytical Skills;Machine Learning skills;Python;Artificial Intelligence;SQL', 'Gathering Information;People management;Communication skills;Problem Solving skills;Sales;Python;Javascript;construction management', 'Active Listening;People management;Civil & Criminal Law;Negotiation skills;Machine Learning skills', 'Analytic Thinking, Product Knowledge, Team work, Logical Skills', 'Active Listening;Hardware skills;Critical Thinking;Gathering Information;Artistic/Creative Skills;People management;Communication skills;Negotiation skills;Mass Communication;Leadership;Editing;Product knowledge;Problem Solving skills;Risk management skills;Writing skills;Social Media Marketing;Presentation Skills;Hospitality;HR;Client management', 'Accounting Skills;Active Listening;Communication skills;Product knowledge;Problem Solving skills', 'Programming Language skills;Critical Thinking;Analytical Skills;Problem Solving skills;Python;Medical knowledge;MATLAB;Teaching', 'Business Knowledge;Analytical Skills;Finance related skills;Problem Solving skills;Risk management skills;Presentation Skills', 'Analytical Skills;Data Visualization skills( Power Bi/ Tableau );Machine Learning skills;Social Media Marketing;R;Python;Artificial Intelligence', 'C++;Hadoop;Java;SQL;Core Java;JavaScript;PL/SQL;Informatica', 'Accounting Skills', 'Active Listening, Python, Gathering Informing, Programming', 'Accounting Skills;Finance related skills;Civil & Criminal Law;Negotiation skills;Risk management skills', 'JavaScript,Python', 'Subject Knowledge', 'Javascript', 'Python', 'Hardware skills;Programming Language skills;Communication skills;Problem Solving skills;Risk management skills;Writing skills;Presentation Skills;Linux;Python;Java;Cloud Computing', '\\r\\nTeamwork;Time Management;Company Secretarial Work;Legal Compliance;Communication;TeamLeadership;Interpersonal Skills;Presentations;Interpersonal Communication;Companies Act;Indirect Taxation', 'Accounting Skills;Active Listening;Critical Thinking;Analytical Skills;People management;Communication skills;Problem Solving skills;Python;Teaching', 'Financial Modeling;Financial Analysis;', '\\r\\nMicrobiology; cell culture ;molecular Biology; bioprocess;\\r\\nKatte virus', 'Analytic Thinking, SQL, Oracle, Communication Skills, Work under Pressure, Leadership, Excel, Interpersonal Skills, Problem Solving skills, Reporting', 'Cloud Computing', 'Gathering Informing', 'Active Listening, Critical Thinking, Analytic Thinking, Negotiation Skills, Presentation Skills, Problem Solving skills, Writing, Observation Skills, Subject Knowledge', 'Accounting Skills, Cost Accounting, Excel, Writing', 'Business Knowledge, Communication Skills, Negotiation Skills, Work under Pressure, Leadership, Creativity Skills, Market Study, Excel, Writing, Reading, Sales', 'Java backend development; c; c++; problem solving skills; jdbc programming ;object oriented programming; string stringbuffer and stringbuilder in Java ;design and prototype in Adobe XD ;hTML; CSS;JavaScript for web developers; responsive web design', 'Civil & Criminal Law', 'Programming Language skills;Artistic/Creative Skills;Leadership;Problem Solving skills;Data Visualization skills( Power Bi/ Tableau );Machine Learning skills;Social Media Marketing;R;Python', 'Accounting Skills;Active Listening;Programming Language skills;Gathering Information;Wealth Management;Content creation', 'Active Listening, Critical Thinking, SQL, Leadership, Editing, Creativity Skills, Team work, Excel, Logical Skills, Problem Solving skills, Designing Skills', 'Data Visualization skills( Power Bi/ Tableau );R;Python;SQL;MATLAB', 'Proeficiency in Software like STAAD PRO, ETABS', 'Active Listening;Programming Language skills;Gathering Information;Artistic/Creative Skills;Communication skills;Leadership;Problem Solving skills;Writing skills;Programming Language C', 'Active Listening;Programming Language skills;Gathering Information;C++;Java', 'Leadership, Team work, Presentation Skills, Writing, Observation Skills, Designing Skills', 'ML, SQL, Leadership, Writing, Tableau', 'Active Listening;Programming Language skills;Communication skills;Machine Learning skills;Python', 'Accounting Skills;Hardware skills;Critical Thinking;Business Knowledge;Finance related skills;Civil & Criminal Law;Communication skills;Mass Communication;Leadership;Problem Solving skills;Risk management skills;Data Visualization skills( Power Bi/ Tableau );Machine Learning skills;Sales;Python;SQL', 'Accounting Skills;Hardware skills;Critical Thinking;Business Knowledge;Finance related skills;Civil & Criminal Law;Communication skills;Leadership;Problem Solving skills;Data Visualization skills( Power Bi/ Tableau );Machine Learning skills;Python;SQL;Good communication skills;Teaching', 'AI, ML, Python, Critical Thinking, Analytic Thinking, Artistic skills, Work under Pressure, Team work, Logical Skills, Presentation Skills', 'Active Listening, Leadership, Market Study, Team work, Mass Communication, Writing, Reading, Sales', 'Sales', 'Finance related skills;People management;Communication skills;Leadership;Sales;Social Media Marketing', 'Active Listening;Hardware skills;Critical Thinking;Gathering Information;Artistic/Creative Skills;Business Knowledge;People management;Communication skills;Product knowledge;Problem Solving skills;Risk management skills;AWS', 'Programming Language skills;Analytical Skills;C++;Linux;SQL;Java;Cloud Computing', 'Analytical Skills;Python;Proeficiency in Software like STAAD PRO, ETABS;Good communication skills;Teaching', 'Active Listening', 'Active Listening;People management;Leadership;Cloud Computing', 'Hardware skills;Leadership;Designing skills', 'Active Listening;Programming Language skills;Critical Thinking;Communication skills;Java;Cloud Computing', 'Active Listening;Gathering Information;Analytical Skills;Leadership;Machine Learning skills;Interpersonal skills;Medical knowledge', 'AI, ML, Python, Analytic Thinking, SQL, Programming, C++', 'Gathering Information;Finance related skills;Civil & Criminal Law', 'Active Listening,Work under Pressure,Team work,Presentation skills,Reading', 'Bootstrap;Node.js;Angular;JIRA;TRELLO;Jquery;Javascript;Ajax;PHP;Codeignitor;Loopback;', 'Business Knowledge, People Management, Communication Skills, Logical Skills, Problem Solving skills, Reading, Sales', 'Teaching experience', 'Active Listening;Critical Thinking;Business Knowledge;People management;Communication skills;Leadership;Problem Solving skills;Risk management skills;Writing skills;Hospitality;Client management;Good communication skills', 'Accounting Skills, Business Knowledge, Editing, Excel, Designing Skills, Sales', 'Accounting Skills;Critical Thinking;Gathering Information;Artistic/Creative Skills;Analytical Skills', 'Polymerase Chain Reaction (PCR);Molecular Biology;Life Sciences;Molecular Biology protein purification;protein chemistry;Protein Assays;Protein Electrophoresis;Protein Chromatography;Western Blotting;Protein Structure Prediction;Protein Kinases; Protein structure ;protein characterization ;protein engineering', 'Programming Language skills;Machine Learning skills;Python', 'Active Listening;Critical Thinking', 'Communication Skills, Leadership, Problem Solving skills, Subject Knowledge', '\\r\\nPhytochemistry;Metabolomics;Protein Expression;PCR;Molecular Biology;Life Sciences;Polymerase Chain Reaction (PCR);DNA;Biochemistry;Bioinformatics;Cell Culture;Protein Purification;Chemometrics', 'Business Knowledge, Communication Skills, Observation Skills', 'Artistic/Creative Skills;Mass Communication', 'Teaching ', 'Python, Java, SQL, Oracle', 'Leadership;R;Python;SQL', 'Python, Critical Thinking, Analytic Thinking, Work under Pressure, Creativity Skills, Team work, Derivatives, Excel, Logical Skills, Interpersonal Skills, Observation Skills', 'Active Listening;Finance related skills;People management;Communication skills;Negotiation skills;Interpersonal skills;HR', 'Active Listening;Hardware skills;Critical Thinking;Gathering Information;Artistic/Creative Skills;Business Knowledge', 'Team work, Logical Skills, Writing', 'Accounting Skills;Artistic/Creative Skills;Business Knowledge;Finance related skills;People management;Communication skills;Negotiation skills;Leadership;Problem Solving skills;Risk management skills;Sales;Client management', 'Business Knowledge;People management;Leadership;Problem Solving skills;SAP', 'Python, Java', 'Excel, Interpersonal Skills, Presentation Skills, Subject Knowledge', 'Programming Language skills;Communication skills;Leadership;Problem Solving skills;Linux;SQL;Good communication skills;Foreign languages french, Spanish', 'Python, Editing, Team work, Problem Solving skills, Writing', 'Python, SQL, Work under Pressure', 'Diploma in visual effects', 'Civil & Criminal Law, Communication Skills, Sales', 'Python, Java, SQL, Oracle, Programming, Team work, Linux, Problem Solving skills, Subject Knowledge', 'Communication skills', 'Programming Language skills;Leadership', 'Business Knowledge, People Management, Negotiation Skills, Work under Pressure, Leadership, Creativity Skills, Logical Skills, Interpersonal Skills, Problem Solving skills', 'Critical Thinking;Artistic/Creative Skills;Leadership;Product knowledge;Problem Solving skills;Designing skills', 'Accounting Skills;Business Knowledge;People management;Communication skills;Product knowledge;Data Visualization skills( Power Bi/ Tableau );SQL;HR;Good communication skills', 'Accounting Skills, Business Knowledge, Programming, People Management, Leadership, Creativity Skills, Team work, Excel, Presentation Skills, Problem Solving skills, Reporting', 'Active Listening;Programming Language skills;Critical Thinking;Gathering Information;Artistic/Creative Skills;Communication skills;Problem Solving skills;Designing skills;Writing skills;C++;Presentation Skills;Linux;Artificial Intelligence;SQL;Content creation;Java;Cloud Computing', 'Accounting Skills;Active Listening;Programming Language skills;Critical Thinking;Gathering Information;Analytical Skills;Finance related skills;Civil & Criminal Law;Communication skills;Problem Solving skills;Risk management skills;Designing skills;Data Visualization skills( Power Bi/ Tableau );Machine Learning skills;Sales;Social Media Marketing;Interpersonal skills;Presentation Skills;R;Python;SQL;Content creation;Java;Cloud Computing;Architecture', 'Programming Language skills;Python;SQL;Java;AWS;Javascript', 'Critical Thinking;People management;Communication skills;Negotiation skills;Client management;Refinery Operations', 'Analytic Thinking, People Management, Creativity Skills, Excel, Reading', 'Programming Language skills;Critical Thinking;Editing', 'Accounting Skills;Active Listening;Communication skills;Problem Solving skills;Writing skills;Interpersonal skills', 'Gathering Information;People management;Communication skills;Product knowledge;Problem Solving skills;Java;Client management;Good communication skills', 'Protein expression ;protein purification; Molecular Biology; biochemistry; protein chemistry ;western blotting ;cell culture; cell biology; bioinformatics;\\r\\nPolymerase Chain Reaction (PCR) ;molecular cloning; microscopy;\\r\\nChromatography;\\r\\nEnzyme Kinetics;\\r\\nBiophysics electron microscopy;\\r\\nCryo-EM;X-ray crystallography;\\r\\nStatic Light Scattering;chromatrography', 'Communication skills;Writing skills;C++;Python;SQL;Java', 'Programming Language skills;Problem Solving skills', 'Active Listening;Hardware skills;Communication skills;Negotiation skills', 'Critical Thinking;Finance related skills;People management;Communication skills;Leadership;Designing skills;Social Media Marketing', 'Active Listening;Critical Thinking;Gathering Information;Analytical Skills;Finance related skills;Proeficiency in Software like STAAD PRO, ETABS;Good communication skills;SAP', 'Business Knowledge, Sales', 'AI, ML, Python, SQL, Negotiation Skills, Work under Pressure, Leadership, News Gathering, Editing, Market Study, Team work, Derivatives, Excel, Tableau, CATIA , ANSYS ,SOLIDWORKS,CAESAR 2', 'Business Knowledge, Leadership, Market Study', 'Leadership', 'Accounting Skills, Business Knowledge, Product Knowledge, Sales', 'Programming Language skills;Critical Thinking;Artistic/Creative Skills;Analytical Skills;Machine Learning skills;Python;SQL;Java', 'Team work, Excel, Designing Skills', 'Gathering Information', 'Active Listening;Hardware skills;Critical Thinking;Mass Communication;R;Python', 'Accounting Skills;Active Listening;Programming Language skills;Problem Solving skills;Designing skills;R;Python;SQL;HR;MATLAB', 'Active Listening;Programming Language skills;Gathering Information;Artistic/Creative Skills;People management;Communication skills;Leadership;C++;Linux;Java;HR', 'Team work, Excel, Writing', 'Programming Language skills;Analytical Skills;Problem Solving skills;Data Visualization skills( Power Bi/ Tableau );Machine Learning skills;Python;SQL', 'Programming Language skills;Critical Thinking;Business Knowledge;Analytical Skills;Communication skills;Data Visualization skills( Power Bi/ Tableau );Machine Learning skills;Python;Artificial Intelligence', 'People management;Leadership;Designing skills;Writing skills;Social Media Marketing', 'Programming Language skills;Analytical Skills;People management;Communication skills;Leadership;Problem Solving skills;Python;SQL;Java;Teaching', 'People Management, Observation Skills, Designing Skills', 'Analytical Skills;Communication skills;Product knowledge;Problem Solving skills;Risk management skills;Designing skills;Writing skills;Presentation Skills', 'Designing skills;Python', 'Designing skills;Writing skills;CAD/CAE(autocad/catia/ansys/proE/SeimensNX);construction management', 'Work under Pressure, Leadership, Team work, Excel, Interpersonal Skills, Presentation Skills, Problem Solving skills, Mass Communication, Writing, Risk Managing, Reporting, Reading, Designing Skills', 'c;JavaScript;Data Structure;CSS; jQuery ;Angular JS ;javaScript; hTML5 ;css3;\\r\\nSSIS; ssms; python; react.js ;java Enterprise edition', 'Programming Language skills;Critical Thinking;Leadership', 'CSS;C++;JavaScript;MySQL;Java;SQL;Cascading Style Sheets (CSS);Website Development;jQuery;HTML5;Linux;AJAX;Software Development;XML;CakePHP;CodeIgniter;Laravel;Symfony;Symfony Framework;Git;Angular Command Line Interface (CLI);Yii2', 'Communication skills;Writing skills;C++', 'Gathering Information;Artistic/Creative Skills;Analytical Skills;Communication skills', 'Python, SQL', 'Gathering Information;Artistic/Creative Skills;Business Knowledge;Analytical Skills;Problem Solving skills;Writing skills;Presentation Skills;Good communication skills', 'ML, Python, Analytic Thinking, Business Knowledge, Leadership, Team work, Excel, R, Problem Solving skills, Data science completed by using python and R', 'Active Listening;Programming Language skills;Gathering Information;Artistic/Creative Skills;Business Knowledge;People management;Communication skills;Negotiation skills;Leadership;Problem Solving skills;Risk management skills;Designing skills;Writing skills;Interpersonal skills;C++;Presentation Skills;Programming Language C', 'Programming Language skills;Machine Learning skills;Linux;Python;Artificial Intelligence;SQL', 'Critical Thinking, Analytic Thinking, Gathering Informing, Negotiation Skills, Work under Pressure, Team work, Excel, Logical Skills, Problem Solving skills', 'Programming Language skills;Business Knowledge;Communication skills;Problem Solving skills', 'Communication skills;Leadership;Problem Solving skills;Java', 'Programming Language skills;Communication skills;SQL;Java', 'Java, Programming', 'Programming Language skills;Critical Thinking;Gathering Information;Analytical Skills;Communication skills;Problem Solving skills;SQL', 'Programming Language skills;Critical Thinking;Communication skills;Problem Solving skills;Risk management skills;C++;Presentation Skills;Linux;Cloud Computing', 'Active Listening;Critical Thinking;Gathering Information;Artistic/Creative Skills;Business Knowledge;Analytical Skills;People management;Communication skills;Negotiation skills;Leadership;Problem Solving skills;Data Visualization skills( Power Bi/ Tableau );Machine Learning skills;Presentation Skills;Python', 'Active Listening;Critical Thinking;Artistic/Creative Skills;Analytical Skills;Communication skills;Linux;Python;SQL', 'Accounting Skills;Active Listening;Critical Thinking;Gathering Information;Business Knowledge;Analytical Skills;Finance related skills;Problem Solving skills;Data Visualization skills( Power Bi/ Tableau );Machine Learning skills;Presentation Skills;Python;SQL;Good communication skills', 'Java, SQL, Programming, Communication Skills, Team work, Presentation Skills', 'Writing, Reading', 'ML, Python, Business Knowledge, Java, Linux, AWS', 'PHP;Programming Language C;Javascript', 'Artistic/Creative Skills;Leadership;Content creation', 'Programming Language skills', 'Active Listening;Programming Language skills;Gathering Information;Communication skills;Leadership;Problem Solving skills;Risk management skills;Writing skills;Data Visualization skills( Power Bi/ Tableau );C++;SQL;Content creation;Medical knowledge;Java;Cloud Computing', 'Excel', 'Accounting Skills;Active Listening;Hardware skills;Sales;Social Media Marketing;HR', 'Critical Thinking;Communication skills;SAP ', 'Accounting Skills;Finance related skills', 'Python, People Management, Communication Skills, Work under Pressure, Leadership, Creativity Skills, Team work', 'Technical machine fitter', 'C#;.NET Framework;Python ;C ;Transact-SQL (T-SQL)', 'Accounting Skills, Critical Thinking, Analytic Thinking, Business Knowledge, Work under Pressure, Leadership, Product Knowledge, Creativity Skills, Team work, Excel, Logical Skills, Interpersonal Skills, Presentation Skills, Problem Solving skills, Risk Managing, Reporting', 'Active Listening, Programming, Work under Pressure, Teamwork,Excel,Logical Skills Interpersonal Skills, Presentation skills, Reading', 'Accounting Skills;Communication skills;Negotiation skills;Editing;Wealth Management;Presentation Skills', 'ML, Python, SQL', 'Active Listening, Analytic Thinking, Business Knowledge, Work under Pressure, Team work, Presentation Skills, Writing, Observation Skills, Risk Managing, Reading, Subject Knowledge', 'Data Visualization skills( Power Bi/ Tableau );Python;Artificial Intelligence;SQL', 'Programming Language skills;Analytical Skills;Communication skills;Problem Solving skills;Data Visualization skills( Power Bi/ Tableau );Python;SQL;Good communication skills', 'Programming Language skills;People management;Designing skills;Social Media Marketing;Interpersonal skills;Good communication skills', 'Critical Thinking;Communication skills;Negotiation skills;Python;Good communication skills', 'Business Knowledge;Product knowledge;Problem Solving skills;Risk management skills;Sales;Client management', 'Java Enterprise Edition;Hibernate;Zuul API Gateway;Spring Cloud;Apache ZooKeeper;Amazon EC2;Zoho;Oracle CRM;Spring Boot;Spring MVC;Docker;Apache Drill;Angular', 'Accounting Skills, Business Knowledge, Negotiation Skills, Work under Pressure, Interpersonal Skills', 'Writing skills;Medical knowledge', '\\r\\nAltium Designer;Printed Circuit Board (PCB) Design;NI LabVIEW; Digital electronics semiconductors;Arduino;Xilinx Vivado;Verilog;KiCAD;NI Multisim;Eagle PCB;Electronic Circuit Design;Altium CircuitMaker;Internet of Things (IoT);Electronics Hardware Design;OrCAD Capture CIS;OrCAD', 'Medical knowledge;Hospitality', 'Programming Language skills;Critical Thinking;Gathering Information;Business Knowledge;Analytical Skills;Product knowledge;Problem Solving skills;Data Visualization skills( Power Bi/ Tableau );Machine Learning skills;SQL', 'HR;Good communication skills', 'Accounting Skills;Active Listening;Hardware skills;Critical Thinking;People management;Communication skills;Leadership;Designing skills;Writing skills', 'People management;Leadership;Problem Solving skills', 'Programming Language skills;Analytical Skills;C++;Python;SQL;Java', 'AI, ML, Critical Thinking, Analytic Thinking, Civil & Criminal Law, Work under Pressure, Leadership, Problem Solving skills', 'Python, Programming, Communication Skills, Leadership, C++, Writing, Observation Skills', 'IBM QRadar;OWASP;Ethical Hacking;Threat & Vulnerability Management;Splunk;Vulnerability Scanning;Malware Analysis;Tenable Nessus;ePolicy Orchestrator;Metasploit;Burp Suite;Security Information and Event Management (SIEM);', 'Accounting Skills, Active Listening, Cost Accounting, Market Study, Excel, Logical Skills, Problem Solving skills, Writing, Sales, Building Rapport', 'Active Listening;Critical Thinking;Business Knowledge;Content creation', 'Programming Language skills;Critical Thinking;Analytical Skills;Communication skills;Leadership;Problem Solving skills;Data Visualization skills( Power Bi/ Tableau );Machine Learning skills;R;Python;Artificial Intelligence', 'Gathering Information;Business Knowledge;Analytical Skills;People management;Civil & Criminal Law;Communication skills;Negotiation skills;Mass Communication;Leadership', 'Critical Thinking, Artistic skills, Communication Skills, Editing, Interpersonal Skills, Reporting, Reading, Subject Knowledge', 'Team work', 'Python, Gathering Informing, Business Knowledge', 'Editing, Writing, Observation Skills, Reading', 'Active Listening, Communication Skills, Leadership, Creativity Skills, Presentation Skills, Problem Solving skills, Writing, Tableau, Reading, Subject Knowledge', 'Programming Language skills;Business Knowledge;Analytical Skills;Communication skills;Leadership;Problem Solving skills;Data Visualization skills( Power Bi/ Tableau );Machine Learning skills;R;Python;Artificial Intelligence;Good communication skills', 'Active Listening;Hardware skills;Programming Language skills;Critical Thinking;Gathering Information;Artistic/Creative Skills;Business Knowledge;Communication skills;Negotiation skills;Leadership;Problem Solving skills;Risk management skills;Designing skills;Writing skills;Machine Learning skills;Wealth Management;Presentation Skills;SAP', 'Accounting Skills;Programming Language skills;Editing;Writing skills;Python;HR;Good communication skills', 'SQL;Java;Javascript', 'Active Listening;Designing skills;Python', 'Data Visualization skills( Power Bi/ Tableau );Python;SQL;Client management;Good communication skills', 'Accounting Skills;Finance related skills;People management;Civil & Criminal Law', 'Business Analytics;Risk Analytics;SAS;Marketing Management;Market Research;Business Strategy;CommercialBanking;Portfolio Management;Supply Chain Management;Business Process Reengineering;Consumer Behaviour;Long-term Customer Relationships;Retail Marketing;Financial Accounting;credit risk modeling;Security Analysis;Working Capital Management;trategic Marketing;Investment Banking;Structured Finance', 'Accounting Skills;Hardware skills;Critical Thinking;Analytical Skills;Finance related skills;People management;Product knowledge', 'Critical Thinking, Analytic Thinking, Business Knowledge, SQL, Programming, Communication Skills, Work under Pressure, Editing, Team work, Excel, Logical Skills, Interpersonal Skills, Presentation Skills, Tableau, Building Rapport', 'Accounting Skills;Active Listening;Business Knowledge;Leadership;HR', 'Artistic/Creative Skills;Communication skills;Mass Communication;Writing skills;Content creation', 'Critical Thinking;Gathering Information;Artistic/Creative Skills;Communication skills;Mass Communication;Editing;Writing skills;Content creation', 'Active Listening;People management;Communication skills;Leadership;Editing;Social Media Marketing', 'Active Listening;Business Knowledge;Communication skills;Product knowledge', 'AI, ML, Python, Java', 'Designing skills;Machine Learning skills;Social Media Marketing', 'Active Listening;Programming Language skills;Critical Thinking;Gathering Information;Artistic/Creative Skills;Analytical Skills;Communication skills;Problem Solving skills;Writing skills;Data Visualization skills( Power Bi/ Tableau );Machine Learning skills;Interpersonal skills;C++;Python;SQL;Good communication skills', 'People management;Leadership', 'Leadership;Product knowledge;Sales', 'Accounting Skills;Active Listening;Hardware skills;Leadership;Problem Solving skills;Good communication skills', 'Leadership;Machine Learning skills;Python;SQL;MATLAB', 'Active Listening;Programming Language skills;Critical Thinking;Gathering Information;Artistic/Creative Skills;Analytical Skills;Finance related skills;People management;Communication skills;Negotiation skills;Editing;Problem Solving skills;Risk management skills;Python;SQL;Java;Good communication skills', 'Accounting Skills;Active Listening;Gathering Information;Analytical Skills;Negotiation skills;Mass Communication', 'Accounting Skills;Gathering Information;Artistic/Creative Skills;Editing;Linux', 'Critical Thinking;Gathering Information;Analytical Skills;People management;Communication skills;Negotiation skills;Problem Solving skills;Risk management skills;Writing skills;Data Visualization skills( Power Bi/ Tableau );Interpersonal skills;C++;Presentation Skills;R;Python;SQL;Client management;Good communication skills;Teaching;CAD/CAE(autocad/catia/ansys/proE/SeimensNX);Programming Language C', 'Analytical Skills;Leadership;Social Media Marketing', 'Accounting Skills, Gathering Informing, Business Knowledge, People Management, Product Knowledge, Excel, Observation Skills', 'Programming Language skills;Wealth Management;Python', 'AI, Python', 'Active Listening;People management;Leadership', 'Business Knowledge;Product knowledge', 'Accounting Skills;Critical Thinking;Artistic/Creative Skills;Business Knowledge;Analytical Skills;Finance related skills;Civil & Criminal Law;Mass Communication;Editing;Product knowledge;Problem Solving skills;Writing skills;Data Visualization skills( Power Bi/ Tableau );Machine Learning skills;Social Media Marketing;C++;Presentation Skills;Python;Content creation;Medical knowledge;Java;HR;Proeficiency in Software like STAAD PRO, ETABS', 'Active Listening;Programming Language skills;Risk management skills;Writing skills;SQL;Java', 'Programming Language skills;Finance related skills;Editing;C++;Python;Artificial Intelligence;SQL;Java', 'Team work, Excel, Logical Skills, C++, Problem Solving skills, Writing', 'Hardware skills;PLC/SCADA/VLSI/DCS', 'Programming Language skills;Critical Thinking;Business Knowledge;Communication skills;Leadership;Problem Solving skills;Python;SQL;Java', 'Creativity Skills, Team work, Programming', 'AI, ML, Python', 'Accounting Skills;Business Knowledge;Analytical Skills;Finance related skills;Communication skills;Machine Learning skills;C++;R;Linux;Python;Artificial Intelligence;SQL;Medical knowledge;Java;Cloud Computing;Proeficiency in Software like STAAD PRO, ETABS;Good communication skills', 'Programming', 'Communication Skills', 'Gathering Informing, Leadership, Market Study, Team work', 'Accounting Skills, Communication Skills, Editing, Excel, Presentation Skills, Writing, Reading, Subject Knowledge', 'Programming, Logical Skills, Observation Skills', 'Accounting Skills, Active Listening, Gathering Informing, Java, SQL, Programming, Communication Skills, Work under Pressure, News Gathering, Editing, Product Knowledge, Excel, Interpersonal Skills, Presentation Skills, C++, Problem Solving skills, Observation Skills, Building Rapport', 'Analytical Skills;Data Visualization skills( Power Bi/ Tableau );C++;Python;SQL;Java;AWS', 'ML, Business Knowledge, People Management, Communication Skills, Negotiation Skills, Leadership, Product Knowledge, Team work, Excel', 'Active Listening;Critical Thinking;Gathering Information;Analytical Skills;People management;Communication skills;Negotiation skills;Leadership;Editing;Product knowledge;Problem Solving skills;Risk management skills;Designing skills;Writing skills;Data Visualization skills( Power Bi/ Tableau );Machine Learning skills;Sales;Presentation Skills;R;Python;Medical knowledge;Hospitality;Client management;Good communication skills', 'Programming, Communication Skills, Work under Pressure, Leadership, Editing, Product Knowledge, Team work, Excel, Logical Skills, Interpersonal Skills, Presentation Skills, C++, Problem Solving skills, Mass Communication, Writing, Reading, Designing Skills, Sales', 'Designing Skills', 'Active Listening;Editing;R;Python', 'C++;Python;SQL;Java;Architecture;PHP', 'Active Listening;Programming Language skills;Critical Thinking;Business Knowledge;People management;Negotiation skills;C++', 'Accounting Skills, Business Knowledge, People Management, Work under Pressure, Cost Accounting, Reading', 'Problem Solving skills;C++;Linux;Python', 'Programming Language skills;Critical Thinking;Gathering Information;Artistic/Creative Skills;Business Knowledge;Communication skills;Leadership;Designing skills;Machine Learning skills;Sales;Social Media Marketing;Artificial Intelligence;Good communication skills;Us & Canada Recruitment (IT);AWS;PHP', 'Programming Language skills;Writing skills;Python', 'Editing', 'Sales, Subject Knowledge', 'Reading, Sales', 'Active Listening;Communication skills;Java;Good communication skills;Teaching', 'Python; C++; problem solving ;KIVY; competitive programming; data structures ;backend web development ;spring boot; spring framework', 'Analytical Skills;Communication skills;Product knowledge;Risk management skills;Good communication skills', 'People Management', 'Business Knowledge;Finance related skills;Communication skills;Leadership;Interpersonal skills', 'Analytical Skills;Communication skills;Leadership;Problem Solving skills;C++;Linux;SQL;Good communication skills', 'Active Listening;Hardware skills;Programming Language skills;Critical Thinking;Gathering Information;Artistic/Creative Skills;Business Knowledge;Analytical Skills;Finance related skills;Communication skills;Negotiation skills;Mass Communication;Leadership;Editing;Problem Solving skills;Designing skills;Writing skills;Data Visualization skills( Power Bi/ Tableau );Machine Learning skills;Social Media Marketing;C++;Presentation Skills;R;Linux;Python;SQL;Java;MATLAB', 'Data Visualization skills( Power Bi/ Tableau );Machine Learning skills;C++;R;Linux;Python;Artificial Intelligence;SQL', 'Active Listening;Critical Thinking;Gathering Information;People management;Communication skills;Mass Communication;Editing;Problem Solving skills;Writing skills;Content creation', 'People Management, Communication Skills, Writing, Observation Skills, Reporting', 'Accounting Skills;Business Knowledge;Finance related skills;People management', 'Data Visualization skills( Power Bi/ Tableau );C++;Linux;Python;Artificial Intelligence;SQL', 'Java', 'Critical Thinking, Gathering Informing, Leadership, Team work, Risk Managing', 'Hardware skills;Analytical Skills;Communication skills;Leadership;Editing;Product knowledge;Problem Solving skills;Risk management skills;Designing skills', 'Analytic Thinking, SQL, Oracle, Programming, Communication Skills, Interpersonal Skills', 'Active Listening;People management;Communication skills;Leadership;Problem Solving skills;Risk management skills', 'Java, SQL, Programming, Team work', 'Creativity Skills,Leadership,Market Study, Teamwork, Programming', 'ML, Python, Analytic Thinking, SQL, Excel, Problem Solving skills, Tableau, Risk Managing', 'mechanical maintenance', 'Active Listening;Critical Thinking;Gathering Information;Artistic/Creative Skills;Analytical Skills;People management;Communication skills;Negotiation skills;Mass Communication;Leadership;Problem Solving skills;Risk management skills;Designing skills;Writing skills;Machine Learning skills;Social Media Marketing;Interpersonal skills;Presentation Skills;Linux;Artificial Intelligence;SQL;Medical knowledge;Cloud Computing;HR', 'Active Listening;Gathering Information;Problem Solving skills;MATLAB;Good communication skills;Teaching', 'Accounting Skills, Python, Critical Thinking, Analytic Thinking, Business Knowledge, Communication Skills, Negotiation Skills, Leadership, Editing, Product Knowledge, Cost Accounting, Creativity Skills, Market Study, Team work, Derivatives, Logical Skills, C++, Problem Solving skills, Observation Skills, Risk Managing, Designing Skills, Building Rapport', 'Team work, Reporting', 'Leadership, C.I.T', 'Communication Skills, Leadership, Team work, Reporting', 'Active Listening;Gathering Information;Artistic/Creative Skills;Editing;Problem Solving skills;SQL', 'Python, Artistic skills, SQL, Communication Skills, Editing, Excel, C++', 'Critical Thinking;Business Knowledge;Analytical Skills;SQL', 'Active Listening;Critical Thinking;Gathering Information;Artistic/Creative Skills;Communication skills;Problem Solving skills;Risk management skills;Writing skills;Data Visualization skills( Power Bi/ Tableau );Presentation Skills;Good communication skills', 'Business Knowledge, Communication Skills, Negotiation Skills, Work under Pressure, Leadership, Creativity Skills, Market Study, Team work, Excel, Logical Skills, Interpersonal Skills, Presentation Skills, Observation Skills, Sales', 'Programming Language skills;R;Python;Programming Language C;SAS ', 'Accounting Skills;Analytical Skills;Finance related skills;People management;Negotiation skills', 'Accounting Skills, Analytic Thinking, Gathering Informing, People Management, Communication Skills, Work under Pressure, Leadership, Cost Accounting, Team work, Excel, Interpersonal Skills, Problem Solving skills', 'AI, ML, Python, Analytic Thinking, Gathering Informing, SQL, Team work, Excel, Tableau', 'Active Listening;Business Knowledge;Lotus Notes', 'Active Listening;Programming Language skills;Critical Thinking;Gathering Information;Business Knowledge;Analytical Skills;People management;Negotiation skills;SQL;HR;Client management;Us & Canada Recruitment (IT)', 'Programming Language skills;Critical Thinking;Leadership;Data Visualization skills( Power Bi/ Tableau );Machine Learning skills;Python;Good communication skills;Programming Language C', 'Active Listening, Communication Skills, Designing Skills', 'Problem Solving skills;Data Visualization skills( Power Bi/ Tableau );Machine Learning skills;Python', 'AI, ML, Python, Java, SQL, Oracle, Programming, Work under Pressure, Leadership, Product Knowledge, Team work, Logical Skills, Presentation Skills, C++, Problem Solving skills, Writing, Observation Skills, Subject Knowledge', 'Linux', 'Python, People Management, Leadership, Creativity Skills, Team work, Observation Skills, Risk Managing', 'Accounting Skills;Programming Language skills;Business Knowledge;Finance related skills;People management;Risk management skills', 'Active Listening, AI, ML, Python, Critical Thinking, Analytic Thinking, Programming, Communication Skills, Work under Pressure, Leadership, C++, Problem Solving skills', 'Active Listening;Critical Thinking;Product knowledge;Presentation Skills;Artificial Intelligence;Good communication skills;Teaching', 'Java, SQL', 'Leadership, Team work, Excel, Reading, Designing Skills', 'Engineering', 'Active Listening;Hardware skills;Programming Language skills;Communication skills;R;Python;SQL;MATLAB;Good communication skills', 'Writing skills;Teaching', 'Python;Java', 'Critical Thinking, Analytic Thinking, Business Knowledge, Communication Skills, Negotiation Skills, Leadership, Creativity Skills, Team work, Interpersonal Skills, Problem Solving skills, Risk Managing, Designing Skills', 'Active Listening;Programming Language skills;Critical Thinking;Designing skills;SQL;Java;Cloud Computing', 'Communication skills;Problem Solving skills;Writing skills;Data Visualization skills( Power Bi/ Tableau );Machine Learning skills;Presentation Skills;Python;SQL', 'Data Visualization skills( Power Bi/ Tableau );Machine Learning skills;Python;Artificial Intelligence', 'ML, Critical Thinking, Analytic Thinking, Gathering Informing, Communication Skills, Work under Pressure, Writing', 'Business Knowledge, Product Knowledge, Team work, Reading, Building Rapport', 'Active Listening;Programming Language skills;Critical Thinking;Gathering Information;Business Knowledge;Analytical Skills;Problem Solving skills;Data Visualization skills( Power Bi/ Tableau );Machine Learning skills;R;Python;SQL', 'Active Listening;Programming Language skills;Critical Thinking;Gathering Information;Analytical Skills;Problem Solving skills;Machine Learning skills;Presentation Skills;R;Python;SQL', 'Gathering Informing, Product Knowledge', 'Gathering Information;Business Knowledge;Analytical Skills;Designing skills;Presentation Skills;Content creation', 'Analytical Skills;People management;Communication skills;Product knowledge;Problem Solving skills;Risk management skills;Data Visualization skills( Power Bi/ Tableau );Machine Learning skills;Presentation Skills;Python;MATLAB', 'Business Knowledge, Leadership, Team work, Problem Solving skills', 'Active Listening, Work under Pressure,Teamwork,Interpersonal Skills, Presentation skills, Reading', 'Business Knowledge, SQL, Programming, People Management, Communication Skills, Work under Pressure, Editing, Creativity Skills, Team work, Excel, Linux, Problem Solving skills, Observation Skills, Reading', 'Business Knowledge, People Management, Work under Pressure, digital marketing', 'Active Listening;Programming Language skills;Critical Thinking;Gathering Information;Communication skills;Leadership;Good communication skills;Teaching', '\\r\\nSAP Successfactors;Financial Modeling;Corporate Finance;Equity Research;Financial Statement Analysis;Business Model Development;Financial Forecasting;Business Model InnovationBusiness Strategy', '\\r\\nCell Culture;Microbiology;Molecular Genetics;Microbial Genetics;Proteomics;PCR;Bioinformatics;ELISA;qRT-PCR;Mammalian Cell Culture;RNA Isolation;Site-directed Mutagenesis;Molecular & Cellular Biology;Immunology;Cell Biology;DNA Extraction', 'Python, SQL, Programming', 'Active Listening;Leadership;Editing;Problem Solving skills;Risk management skills;Designing skills;Writing skills;Content creation', 'Programming Language skills;Communication skills;Leadership;Editing;Designing skills;Writing skills;C++;SQL', 'Python, Analytic Thinking, Java, Oracle, Editing, C++, Problem Solving skills', 'Communication skills;Negotiation skills;Product knowledge;Designing skills', 'Communication skills;Leadership;Problem Solving skills;Designing skills;Writing skills;Data Visualization skills( Power Bi/ Tableau );C++;Presentation Skills;Python;Artificial Intelligence;Content creation;Hospitality;HR;Good communication skills;Teaching', 'Programming Language skills;Data Visualization skills( Power Bi/ Tableau );Python;Artificial Intelligence', 'Communication skills;Machine Learning skills;Python;SQL', 'Accounting Skills;Risk management skills;Designing skills;Writing skills', 'Active Listening;Programming Language skills;Critical Thinking;Gathering Information;Business Knowledge;Communication skills;Leadership;Editing;Problem Solving skills;Designing skills;Writing skills;Java', 'Active Listening;Business Knowledge;People management;Communication skills;Leadership;Designing skills;Writing skills;Social Media Marketing;Hospitality;Good communication skills;Teaching;SAP;CAD/CAE(autocad/catia/ansys/proE/SeimensNX);mechanical maintenance;Excel', 'Editing, Excel, PowerBI', 'Python, Java, SQL', 'Programming Language skills;Critical Thinking;Artistic/Creative Skills', 'AI, Business Knowledge, Team work, Problem Solving skills', 'html;c;PHP;CSS;Drupal;Javascript;MSSQL;jQuery;NetBeans;MySql;Ajax;XML', 'Cell culture ;plant tissue culture; environmental biotechnology; microbiology ;nanomaterials ;nanoparticles;nanobiotechnology; gas chromatographyHigh-Performance Liquid Chromatography (HPLC); electrospinning; mammalian cell culture ;bacterial culture; ndds ;chromatography;Tissue culture;UV/Vis Spectroscopy', 'Integrated Circuits;Lead Generation;Android and IOS App Developer;Aurdino', 'Work under Pressure, Excel, Sales', 'Business Knowledge;Finance related skills;SQL;Java', 'Good Manufacturing Practice (GMP);Hazard Analysis and Critical Control Points (HACCP);Food Safety;Quality Assurance;Problem Solving;Critical Thinking;Food Microbiology;Food Technology', 'Critical Thinking;Civil & Criminal Law', 'Data Visualization skills( Power Bi/ Tableau );SQL', 'Analytical Skills;Problem Solving skills;Data Visualization skills( Power Bi/ Tableau );Machine Learning skills;Sales;Python;SQL;Java', 'Business Knowledge;Communication skills;Designing skills;Writing skills;Machine Learning skills', 'ML, Python, Java, SQL, C++, Linux', 'Business Knowledge, Java, SQL, Excel, Reporting', 'SQL, C++', 'Active Listening, ML, Python, Analytic Thinking, SQL, Programming, Communication Skills, Creativity Skills, Team work, Logical Skills, Tableau, Reading', 'ML, Python, Critical Thinking, Analytic Thinking, Gathering Informing, Artistic skills, Java, SQL, Programming, People Management, Communication Skills, Negotiation Skills, Work under Pressure, Leadership, Team work, C++, Problem Solving skills, Reading', 'ML, Python, SQL, Oracle, Tableau', 'Gathering Information;Business Knowledge;People management;Communication skills;Leadership;Sales', 'Artistic skills, Business Knowledge, Communication Skills, Creativity Skills, Interpersonal Skills, Presentation Skills, Writing, Observation Skills, Reading, Subject Knowledge', 'Business Knowledge, People Management, Communication Skills, Work under Pressure, Leadership, Editing, Team work, Excel, Presentation Skills, Reading, Designing Skills', 'Hardware skills;Programming Language skills;Critical Thinking;Gathering Information;Writing skills;C++;MATLAB;Good communication skills', 'Java, SQL, Oracle, Programming, Problem Solving skills', 'Business Knowledge, People Management, Work under Pressure, Leadership, Team work, Interpersonal Skills, Wealth Management, Risk Managing', 'Active Listening;Critical Thinking;Artistic/Creative Skills;Business Knowledge;Analytical Skills;People management;Communication skills;Presentation Skills', 'Critical Thinking, Analytic Thinking, Gathering Informing, Business Knowledge, People Management, Negotiation Skills, Work under Pressure, Leadership, Editing, Product Knowledge, Market Study, Team work, Excel, Logical Skills, Interpersonal Skills, Presentation Skills, C++, Problem Solving skills, Observation Skills, Risk Managing, Reading', 'Active Listening, ML, Python, Analytic Thinking, Gathering Informing, Java, SQL, Programming, People Management, Communication Skills, Work under Pressure, Leadership, Editing, Creativity Skills, Team work, C++, Linux, Reading, Building Rapport, Subject Knowledge', 'Active Listening;Programming Language skills;Critical Thinking;Business Knowledge;Analytical Skills;Communication skills;Leadership;Problem Solving skills;Risk management skills;Writing skills;Data Visualization skills( Power Bi/ Tableau );Machine Learning skills;C++;R;Python;Artificial Intelligence;SQL', 'Accounting Skills, AI, Business Knowledge, Work under Pressure, Leadership, Team work, Excel, Risk Managing, Reporting', 'Programming Language skills;Analytical Skills;Leadership', 'Analytical Skills;Data Visualization skills( Power Bi/ Tableau );Machine Learning skills;R;Python;Artificial Intelligence', 'Python, Writing, Observation Skills, Reading, Subject Knowledge, C language', 'Accounting Skills, Excel', 'Automation;Electrical Design;variable frequency drives', 'Active Listening;Critical Thinking;Business Knowledge;Analytical Skills;People management;Communication skills;Negotiation skills;Leadership;Risk management skills;Writing skills;HR', 'Work under Pressure, Leadership, Creativity Skills, Interpersonal Skills, Presentation Skills, Problem Solving skills', 'Hardware skills;Business Knowledge;Leadership;Product knowledge;Problem Solving skills;Designing skills;Client management', 'Active Listening;Hardware skills;Mass Communication;Risk management skills', 'Accounting Skills;Active Listening;Programming Language skills;Critical Thinking;Gathering Information;Artistic/Creative Skills;Business Knowledge;Analytical Skills;Finance related skills;Communication skills;Negotiation skills;Leadership;Product knowledge;Problem Solving skills;Data Visualization skills( Power Bi/ Tableau );Social Media Marketing;Interpersonal skills;Presentation Skills;R;SQL', 'Accounting Skills, Python, Critical Thinking, Analytic Thinking, Gathering Informing, Business Knowledge, SQL, Programming, Communication Skills, Negotiation Skills, Leadership, News Gathering, Excel, Interpersonal Skills, Presentation Skills, R, Linux, Writing, Tableau, Observation Skills, Reporting, Reading, Designing Skills', 'Accounting Skills;Hardware skills;Critical Thinking;Gathering Information;Business Knowledge;Analytical Skills;Communication skills;Product knowledge;Problem Solving skills;Risk management skills;Designing skills;Data Visualization skills( Power Bi/ Tableau );Linux;Python;SQL;Content creation;Cloud Computing;MATLAB;Good communication skills', 'Critical Thinking;Artistic/Creative Skills;Good communication skills', 'Active Listening;Programming Language skills;Python;SQL;Java', 'Active Listening;Programming Language skills;Critical Thinking;Artistic/Creative Skills;Business Knowledge;Leadership;Writing skills;Linux;SQL;Java;Client management;Good communication skills', 'Python, Analytic Thinking, People Management, Leadership, Excel, Logical Skills, Problem Solving skills', 'Excel, Writing, Reading', 'C++', 'Designing skills;PHP', 'Gathering Informing, Communication Skills, Negotiation Skills, Work under Pressure, Leadership, Team work, Writing, Reading', 'Business Knowledge, Programming, Communication Skills, Negotiation Skills, Editing, Creativity Skills, Market Study, Logical Skills, Interpersonal Skills, Wealth Management, Problem Solving skills, Mass Communication', 'Life sciences;\\r\\nPharmacovigilance;pharmacology;\\r\\nGMP;\\r\\nPharmaceutics;\\r\\nDrug Discovery;\\r\\nClinical Trials;\\r\\nPharmacokinetics;\\r\\nClinical Research;\\r\\nHigh-Performance Liquid Chromatography (HPLC);\\r\\nGood Clinical Practice (GCP);\\r\\nGood Laboratory Practice (GLP);\\r\\nCRO ManagementCRO Management', 'Cancer Research; cancer Biology ;bacterial transformation; molecular cloning; cell culture;\\r\\nGel Electrophoresis;\\r\\nFluorescence Microscopy;\\r\\nPolymerase Chain Reaction (PCR);\\r\\nReal-Time Polymerase Chain Reaction (qPCR)', 'Active Listening, Business Knowledge, Communication Skills, Leadership, Interpersonal Skills, Presentation Skills, Problem Solving skills, Reading, Designing Skills', 'Business Knowledge;Product knowledge;Problem Solving skills', 'Critical Thinking;Negotiation skills;Editing', 'Problem Solving skills;Java;MATLAB', 'Active Listening;Writing skills', 'Accounting Skills;Business Knowledge', 'construction management', 'Business Knowledge;Analytical Skills;People management;Product knowledge;Problem Solving skills;Good communication skills', '\\r\\nSplunk;ServiceNow;Cybersecurity;\\r\\n', 'Hardware skills;Programming Language skills;Gathering Information;Product knowledge;SQL;Java;Automation', 'Active Listening, AI, ML, Python, Critical Thinking, Analytic Thinking, Gathering Informing, Artistic skills, SQL, Negotiation Skills, Work under Pressure, Leadership, News Gathering, Editing, Product Knowledge, Creativity Skills, Team work, Excel, Interpersonal Skills, Presentation Skills, C++, R, Problem Solving skills, Mass Communication, Writing, Tableau, Observation Skills, Risk Managing, Reporting, Reading, Designing Skills, Subject Knowledge', 'Active Listening;Critical Thinking;Gathering Information;Artistic/Creative Skills;Business Knowledge;Analytical Skills;People management;Civil & Criminal Law;Communication skills;Negotiation skills;Mass Communication;Leadership;Editing;Product knowledge;Problem Solving skills;Risk management skills;Designing skills;Writing skills;Data Visualization skills( Power Bi/ Tableau );Machine Learning skills;Interpersonal skills;Presentation Skills;R;Python;Artificial Intelligence;SQL;Content creation;Good communication skills', 'Active Listening;Hardware skills;Programming Language skills;Critical Thinking;Gathering Information;Artistic/Creative Skills;Business Knowledge;Analytical Skills;Finance related skills;People management;Communication skills;Negotiation skills;Mass Communication;Leadership;Editing;Product knowledge;Problem Solving skills;Risk management skills;Designing skills;Writing skills;Data Visualization skills( Power Bi/ Tableau );Machine Learning skills;Sales;Social Media Marketing;Interpersonal skills;Wealth Management;Presentation Skills;R;Python;Artificial Intelligence;SQL;Content creation;Medical knowledge;Hospitality;HR;MATLAB;Good communication skills;Teaching;SAP;Us & Canada Recruitment (IT)', 'Interpersonal Skills, C++, Sales', 'Critical Thinking, Analytic Thinking, Gathering Informing, Business Knowledge, People Management, Negotiation Skills, Work under Pressure, Leadership, Team work, Excel, Interpersonal Skills, Presentation Skills, Problem Solving skills, Mass Communication, Writing, Observation Skills, Risk Managing, Reporting, Designing Skills, Building Rapport, Subject Knowledge', 'Accounting Skills;Active Listening;Programming Language skills;Critical Thinking;Gathering Information;Business Knowledge;Analytical Skills;Finance related skills;Communication skills;Leadership;Risk management skills;Designing skills;Data Visualization skills( Power Bi/ Tableau );Machine Learning skills;Interpersonal skills;Presentation Skills;Linux;Python;Artificial Intelligence;SQL;Java;Cloud Computing;Good communication skills;Teaching;AWS;Teaching experience;Excel', 'Designing skills;SQL;Java', 'Writing skills', 'Accounting Skills;Active Listening;Hardware skills', 'Programming Language skills;Finance related skills;SQL', 'Programming,Leadership skills,Presentation skills,Team work', 'Active Listening;Hardware skills;Programming Language skills;Critical Thinking;Gathering Information;Artistic/Creative Skills;Communication skills;Leadership;Problem Solving skills;Writing skills;Interpersonal skills;Presentation Skills;MATLAB;Good communication skills', 'Excel, C++', 'Active Listening;Programming Language skills;Gathering Information;Communication skills;Problem Solving skills;Writing skills;Data Visualization skills( Power Bi/ Tableau );C++;Python;SQL;Programming Language C', 'Medical knowledge', 'Business Knowledge, Programming', 'Active Listening;Hardware skills', 'Leadership;Editing;CAD/CAE(autocad/catia/ansys/proE/SeimensNX);mechanical maintenance', 'Programming Language skills;Critical Thinking;Gathering Information;Analytical Skills;People management;Communication skills;Problem Solving skills;Risk management skills;Data Visualization skills( Power Bi/ Tableau );Machine Learning skills;Python;SQL;MATLAB;Good communication skills', 'Hardware skills;Programming Language skills;Critical Thinking;Gathering Information;Mass Communication;Leadership;Problem Solving skills;Data Visualization skills( Power Bi/ Tableau );Python;SQL;MATLAB;Good communication skills', 'Gathering Information;Business Knowledge;Editing;Problem Solving skills;Writing skills;C++;SQL;Java', 'Programming Language skills;Critical Thinking;Business Knowledge;Analytical Skills;Communication skills;Problem Solving skills;Data Visualization skills( Power Bi/ Tableau );Machine Learning skills;R;Linux;Python;Artificial Intelligence;SQL', 'Accounting Skills;Active Listening;Hardware skills;Programming Language skills;Product knowledge;Problem Solving skills;Java', 'AI, ML, Python, Java, SQL, Oracle, Programming, Problem Solving skills, Tableau, Designing Skills', 'Active Listening;Hardware skills;Critical Thinking;Artistic/Creative Skills;Business Knowledge;Finance related skills;People management;Communication skills;Product knowledge;Problem Solving skills;Risk management skills;Sales', 'Programming Language skills;Communication skills;Writing skills;C++;Presentation Skills;R;Linux;Python;SQL;Good communication skills;Teaching;Programming Language C;Teaching experience', 'Python, Linux', 'Accounting Skills, ML, Python', 'Communication skills;Leadership;Problem Solving skills;Designing skills;Writing skills;Sales;C++;Java;Hospitality', 'Business Knowledge;People management;Leadership', 'Python, Java, SQL, Oracle, Programming, Team work, Excel, Logical Skills, Interpersonal Skills, Linux, Problem Solving skills', 'Designing skills;Linux;SQL;Java;Cloud Computing;mechanical maintenance', 'Business Knowledge, Work under Pressure, Team work', 'Critical Thinking;Artistic/Creative Skills;Analytical Skills;Communication skills;Editing;Problem Solving skills;Risk management skills;Writing skills;C++', 'Teaching', 'Analytic Thinking, Business Knowledge, SQL, People Management, Communication Skills, Negotiation Skills, Product Knowledge, Team work, Excel, Problem Solving skills, Writing, Subject Knowledge', 'Active Listening;Gathering Information;Analytical Skills;Communication skills;Python;SQL', 'PLC/SCADA/DCS/VLSI', 'Civil & Criminal Law;Good communication skills', 'Active Listening;Artistic/Creative Skills;Communication skills;Machine Learning skills;Sales', 'Communication skills;Negotiation skills;Leadership;Problem Solving skills;Writing skills;HR;Teaching', 'Hardware skills;Business Knowledge;Machine Learning skills', 'Risk management skills;Python;Artificial Intelligence', 'Business Knowledge, Risk Managing, Reporting', 'Analytical Skills;Communication skills;Problem Solving skills;Writing skills;C++', 'Machine Learning skills', 'Programming Language skills;Analytical Skills;Data Visualization skills( Power Bi/ Tableau );Python;SQL', 'Accounting Skills, Negotiation Skills, Work under Pressure, Logical Skills', 'Accounting Skills;Gathering Information;People management;Communication skills;Product knowledge;Sales;Presentation Skills;CAD/CAE(autocad/catia/ansys/proE/SeimensNX);Excel', 'Active Listening;Hardware skills;Gathering Information;Hospitality;Client management;Good communication skills', 'Accounting Skills, Analytic Thinking, Communication Skills, Product Knowledge, Logical Skills, Reading, Subject Knowledge', 'People management;Negotiation skills;Leadership;Product knowledge;Problem Solving skills;Risk management skills;Presentation Skills', 'Accounting Skills;Hardware skills;Gathering Information;Business Knowledge;Analytical Skills;Communication skills;Leadership;Problem Solving skills;Risk management skills;Hospitality;HR', 'Artistic/Creative Skills;Finance related skills;Mass Communication', 'SQL', 'Artistic/Creative Skills;Leadership', 'AI, ML, Python, Programming, Excel', 'Programming Language skills;Business Knowledge;Communication skills;Problem Solving skills;Risk management skills;Machine Learning skills;Python;Artificial Intelligence', 'Analytical Skills;Communication skills;Leadership;Product knowledge;Problem Solving skills;Risk management skills;Python', 'Communication skills;Python;Cloud Computing', 'Critical Thinking;Analytical Skills;Communication skills;Problem Solving skills;Writing skills;Data Visualization skills( Power Bi/ Tableau );Machine Learning skills;R;Python;SQL', 'AI, ML, Python, Java, SQL, Communication Skills, Negotiation Skills, Leadership, Excel, Logical Skills, Interpersonal Skills, C++, Linux, Observation Skills', 'Active Listening;Programming Language skills;Critical Thinking;Artistic/Creative Skills;Business Knowledge;Analytical Skills;People management;Leadership;Problem Solving skills;Data Visualization skills( Power Bi/ Tableau );Presentation Skills;Python;SQL;Good communication skills', 'Accounting Skills;Editing', 'Active Listening;Programming Language skills;Communication skills', 'Product knowledge;Problem Solving skills;Designing skills;Python', 'Programming, Team work, C++, Problem Solving skills, Designing Skills, iOS', 'Active Listening;Business Knowledge;Communication skills;Mass Communication;HR', 'Critical Thinking, Business Knowledge, Java, People Management, Work under Pressure, Leadership, Product Knowledge, Team work, Risk Managing', 'Accounting Skills;Hardware skills;Product knowledge;Data Visualization skills( Power Bi/ Tableau )', 'Python, Java, SQL, Excel', 'Data Visualization skills( Power Bi/ Tableau );Machine Learning skills;C++;Presentation Skills;R;Python;Artificial Intelligence;SQL;Content creation;Java;Cloud Computing;AWS', 'Active Listening;Critical Thinking;Analytical Skills;Communication skills;Negotiation skills;Designing skills;Java', 'Critical Thinking, Analytic Thinking, People Management, Work under Pressure, Product Knowledge, Market Study, Team work, Excel, Interpersonal Skills, Problem Solving skills, Sales', 'Active Listening;Programming Language skills;Critical Thinking;Gathering Information;Artistic/Creative Skills;Negotiation skills;Leadership;Social Media Marketing;Interpersonal skills;C++;Presentation Skills;Python;SQL', 'Accounting Skills;Programming Language skills;Gathering Information;Business Knowledge;Analytical Skills;Product knowledge;Problem Solving skills;Sales;Social Media Marketing;Python;SQL;Client management', 'Gathering Informing, Business Knowledge', 'Writing', 'Analytical Skills;Python;SQL', 'Programming Language skills;Critical Thinking;Problem Solving skills;Data Visualization skills( Power Bi/ Tableau );Python;Artificial Intelligence;SQL;Java;Cloud Computing;Architecture;AWS', 'Critical Thinking;Analytical Skills;People management;Mass Communication;Leadership;Editing;Problem Solving skills;Data Visualization skills( Power Bi/ Tableau );Python;Artificial Intelligence;SQL;Cloud Computing;Architecture;MATLAB', 'Work under Pressure, Team work, Excel', 'Active Listening, Leadership, Team work, Interpersonal Skills, Building Rapport', 'Python, Java, SQL, C++', 'Programming Language skills;Communication skills;Leadership;Problem Solving skills', 'Active Listening;Programming Language skills;Gathering Information;Analytical Skills;R;Python;SQL', 'Programming Language skills;Business Knowledge;People management;Communication skills;Java;Good communication skills', 'Active Listening;Critical Thinking;Finance related skills;People management;Communication skills;Negotiation skills;Mass Communication;Leadership;Editing;Product knowledge;Problem Solving skills;Risk management skills;Designing skills;Interpersonal skills;Presentation Skills', 'Active Listening;Hardware skills;Critical Thinking;Analytical Skills;Communication skills;Negotiation skills;Mass Communication;Leadership;Product knowledge;Interpersonal skills;Presentation Skills;Python;Good communication skills', 'Hardware skills;Product knowledge', 'Active Listening;Critical Thinking;Gathering Information;Analytical Skills;Editing;Problem Solving skills;Risk management skills;Writing skills;C++;R;Java;MATLAB', '\\r\\nCybersecurity;Information Security;Software Development Life Cycle (SDLC);Security Information and Event Management (SIEM);Security Operations Center', 'Analytic Thinking, Business Knowledge, People Management, Communication Skills, Leadership, Editing, Product Knowledge, Team work, Excel, Logical Skills, Interpersonal Skills, Presentation Skills, Problem Solving skills, Risk Managing, Reporting, Subject Knowledge', 'Leadership;Designing skills;Writing skills;C++;Hospitality', 'Leadership, Product Knowledge, Team work, Excel, Sales, Building Rapport, Subject Knowledge', 'Programming Language skills;Critical Thinking;Editing;Writing skills', 'Communication Skills, Leadership, Team work, Excel, Interpersonal Skills, Presentation Skills, Subject Knowledge, AutoCAD, CATIA', 'Critical Thinking;Analytical Skills;Product knowledge;Problem Solving skills', 'Active Listening;Critical Thinking;Communication skills;Problem Solving skills;Designing skills;Writing skills;Sales;Social Media Marketing;Presentation Skills', 'Analytic Thinking, Gathering Informing, SQL, Programming, Communication Skills, Product Knowledge, Team work, Excel, Logical Skills, Interpersonal Skills, Problem Solving skills', '\\r\\nFinancial Modeling;Financial Analysis;Generally Accepted Accounting Principles (GAAP);DCF ValuationDCF Valuation;Equity Valuation;M&A analysis', 'Programming, Communication Skills, Linux', 'Active Listening;Artistic/Creative Skills;Analytical Skills;Designing skills', 'Accounting Skills, Interpersonal Skills, Presentation Skills', 'Active Listening;Communication skills;Editing;Machine Learning skills', 'Business Knowledge, Leadership, News Gathering, Team work, Interpersonal Skills, Presentation Skills, Problem Solving skills', 'Communication Skills, Team work', 'AI, ML, Python, SQL', 'ML, Python, Critical Thinking, Analytic Thinking, SQL, Programming, Team work, Logical Skills, Presentation Skills, R, Subject Knowledge', 'Business Knowledge;Product knowledge;Problem Solving skills;Designing skills;Machine Learning skills', 'Accounting Skills;Finance related skills;Leadership;Problem Solving skills;Presentation Skills', 'Active Listening;Programming Language skills;Gathering Information;Analytical Skills;Editing;Writing skills;Machine Learning skills;C++;Python;SQL', 'Analytical Skills;CAD/CAE(autocad/catia/ansys/proE/SeimensNX);construction management', 'Accounting Skills;Artistic/Creative Skills;Business Knowledge;Communication skills;Mass Communication;Editing;Problem Solving skills;Designing skills;Writing skills;C++;Presentation Skills;Python;Content creation;Architecture', 'Communication Skills, C++, Reading, Subject Knowledge', 'Creativity Skills, Sales', 'Programming Language skills;Critical Thinking;Gathering Information;Artistic/Creative Skills;Communication skills;Leadership;Designing skills;Wealth Management;Python;SQL', 'Accounting Skills;Active Listening;Hardware skills;Programming Language skills;Designing skills;Writing skills;Data Visualization skills( Power Bi/ Tableau );Python;SQL;HR;Good communication skills', 'Linux;IBM AIX;Shell Scripting;Domain Name System (DNS);Secure Shell (SSH);Python;shell scripting;GIT;Jenkins;Puppet;Ansible;Nagios', 'Accounting Skills;Active Listening;Critical Thinking;Artistic/Creative Skills;Business Knowledge;Analytical Skills;Finance related skills;People management;Leadership;Problem Solving skills;Writing skills;HR;Good communication skills', 'AI, ML, Python, Java, SQL, Programming, Communication Skills, Work under Pressure, Leadership, Product Knowledge, Creativity Skills, C++, Linux, Problem Solving skills, Writing, Observation Skills, Risk Managing, Reporting', 'Analytical Skills;People management;Mass Communication;Problem Solving skills;Writing skills;Social Media Marketing;Content creation', 'Programming Language skills;Critical Thinking;Communication skills;Data Visualization skills( Power Bi/ Tableau );Machine Learning skills;C++;Presentation Skills;Python;Artificial Intelligence;SQL;Java', 'Python;SQL', 'ML, Python, SQL, R', 'ML, Python, SQL, R, Tableau', 'Active Listening;Business Knowledge;Leadership;Designing skills', 'Active Listening;Business Knowledge', 'PGDCA', 'Artistic/Creative Skills;Content creation', 'Programming Language skills;Critical Thinking;Analytical Skills;Communication skills;Product knowledge;Machine Learning skills;Python;SQL;Cloud Computing', 'Programming Language skills;Analytical Skills;Editing;Data Visualization skills( Power Bi/ Tableau );Machine Learning skills;Python;Java', 'AI, ML, Python, Critical Thinking, Analytic Thinking, Gathering Informing, Artistic skills, Java, SQL, Programming, Communication Skills, Negotiation Skills, Work under Pressure, Leadership, Product Knowledge, Creativity Skills, Team work, Excel, Presentation Skills, C++, Linux, Problem Solving skills, Mass Communication, Writing, Tableau, Reading, Designing Skills, Building Rapport, Subject Knowledge', 'Active Listening;Hardware skills;Programming Language skills;Business Knowledge;People management;Communication skills;Writing skills;Machine Learning skills;C++;Presentation Skills;Python;SQL;Content creation;Java;MATLAB;Good communication skills', 'Accounting Skills, Business Knowledge, Communication Skills, Leadership, Cost Accounting, Market Study', 'Active Listening;Critical Thinking;Analytical Skills;Communication skills;Problem Solving skills;Data Visualization skills( Power Bi/ Tableau );Presentation Skills', 'Active Listening;Programming Language skills;Critical Thinking;Gathering Information;Analytical Skills;Finance related skills;Communication skills;Negotiation skills;Leadership;Problem Solving skills;Machine Learning skills;Python;SQL;Good communication skills', 'Communication Skills, Work under Pressure, Team work, Problem Solving skills', 'Leadership;SQL', 'Active Listening;Programming Language skills;Critical Thinking;Gathering Information;Analytical Skills;People management;Data Visualization skills( Power Bi/ Tableau );Presentation Skills;Python', 'Active Listening;Programming Language skills;C++;Python;SQL;Java;Cloud Computing', 'Core Skills,Programming', 'Active Listening;Business Knowledge;People management;Leadership;Product knowledge;Machine Learning skills;Sales;R', '2D/3D Animation', 'Active Listening;Gathering Information;Business Knowledge;Analytical Skills;People management;Product knowledge', 'Creativity Skills, Risk Managing, Reporting, Reading, Subject Knowledge', 'People management;Civil & Criminal Law', 'Communication skills;Negotiation skills;Leadership;Proeficiency in Software like STAAD PRO, ETABS', 'AI, ML, Editing, Market Study, Team work', 'Product knowledge;Problem Solving skills;Client management', 'Hardware skills;Programming Language skills;Gathering Information;Artistic/Creative Skills;Editing;Designing skills;Data Visualization skills( Power Bi/ Tableau );C++;Python;SQL', 'Artistic/Creative Skills;Teaching', 'Programming Language skills;Analytical Skills;Communication skills;Negotiation skills;Mass Communication;Leadership;Risk management skills;Data Visualization skills( Power Bi/ Tableau );Machine Learning skills;R;Python;SQL;Good communication skills;Teaching', 'Critical Thinking, Analytic Thinking, Work under Pressure, Leadership, Team work, Excel, Logical Skills, Interpersonal Skills, Presentation Skills, Observation Skills, Designing Skills, Subject Knowledge', '\\r\\nMolecular Biology;Structural Biology. Nucleic acid - Protein interactions. Data Analysis', 'AI, ML, Python, Critical Thinking, Analytic Thinking, Team work, Logical Skills, R, Problem Solving skills, Tableau, Observation Skills, Reading', 'Accounting Skills;Active Listening;Critical Thinking;Business Knowledge;Analytical Skills;Finance related skills;People management;Communication skills;Machine Learning skills', 'Editing;Writing skills;C++;Medical knowledge', 'Problem Solving skills;Writing skills;Data Visualization skills( Power Bi/ Tableau );Machine Learning skills;Presentation Skills;Python;SQL;Good communication skills', 'Programming Language skills;C++;R;Python;Java', 'Analytical Skills;Data Visualization skills( Power Bi/ Tableau );Machine Learning skills;R;Python;SQL', 'Active Listening, AI, ML, Python, Critical Thinking, Analytic Thinking, SQL, Programming, Communication Skills, Leadership, Market Study, Team work, Tableau', 'Active Listening;Critical Thinking;Business Knowledge;People management;Problem Solving skills;Risk management skills', 'People management;Communication skills;Mass Communication;Leadership;Problem Solving skills;Risk management skills;Client management', 'Accounting Skills, Gathering Informing, Business Knowledge, People Management, Communication Skills, Editing, Cost Accounting, Market Study, Team work, Excel, Logical Skills, Presentation Skills, Wealth Management, Problem Solving skills, Writing, Risk Managing, Reading, Sales, Subject Knowledge', 'Programming Language skills;Machine Learning skills;Python;SQL;AWS', 'Active Listening;Business Knowledge;Communication skills;Negotiation skills;Product knowledge;Writing skills', 'Programming Language skills;Gathering Information;Artistic/Creative Skills;Analytical Skills;People management;Communication skills;Leadership;Problem Solving skills;Risk management skills;SQL;Java', 'Active Listening;Programming Language skills;Communication skills;Writing skills;Data Visualization skills( Power Bi/ Tableau );Machine Learning skills;Python;Artificial Intelligence;SQL;Medical knowledge', 'Active Listening, AI, ML, Python, Critical Thinking, Analytic Thinking, Java, SQL, Oracle, Programming, Communication Skills, Work under Pressure, Leadership, Editing, Excel, Logical Skills, C++, R, Linux, Problem Solving skills, Observation Skills', 'power system engineering', 'Active Listening;Programming Language skills;Critical Thinking;Gathering Information;Artistic/Creative Skills;Business Knowledge;Analytical Skills;Product knowledge;Problem Solving skills;Risk management skills;Designing skills;Writing skills;Data Visualization skills( Power Bi/ Tableau );Machine Learning skills;C++;R;Linux;Python;Artificial Intelligence;SQL;Java;Cloud Computing;Architecture', 'Active Listening;Communication skills;Negotiation skills;Mass Communication;Leadership;Editing;Writing skills;Social Media Marketing;Content creation;Medical knowledge;Java;Cloud Computing;Architecture;Hospitality;HR;Good communication skills', 'Programming Language skills;Analytical Skills;Communication skills;Leadership;Product knowledge;Problem Solving skills;Writing skills;Data Visualization skills( Power Bi/ Tableau );Machine Learning skills;Wealth Management;Presentation Skills;R;Python;Artificial Intelligence;SQL;Cloud Computing;MATLAB;Client management;Good communication skills', 'Active Listening, ML, Python, Critical Thinking, Analytic Thinking, Gathering Informing, SQL, Communication Skills, Team work, Excel', 'Life science molecular Biology genetics;\\r\\nPolymerase Chain Reaction (PCR);\\r\\nProtein Expression;\\r\\nBiochemistry\\r\\n·', 'Amazon Web Services (AWS)SQL;Java', 'Negotiation skills;Leadership;Product knowledge;Problem Solving skills;Good communication skills', 'People Management, Communication Skills, Negotiation Skills', 'Leadership;Risk management skills;Wealth Management;Client management', 'Editing;Risk management skills;Designing skills;Data Visualization skills( Power Bi/ Tableau );Machine Learning skills;R;Python;SQL', 'Editing;Problem Solving skills;Risk management skills;Designing skills;C++;R;Python;SQL', 'Architecture', 'Hardware skills;Programming Language skills;Gathering Information;Artistic/Creative Skills;Java;HR', 'Accounting Skills;Active Listening;Critical Thinking;Analytical Skills;Finance related skills;Mass Communication;Problem Solving skills;Risk management skills;Social Media Marketing', 'Project management', 'Artistic/Creative Skills;Editing;Social Media Marketing', 'Active Listening;Programming Language skills;People management;Communication skills;Product knowledge;Linux;Java', 'Artistic/Creative Skills;Analytical Skills;Editing;Writing skills', 'Gathering Information;Business Knowledge;People management;Communication skills;Leadership;Product knowledge;Problem Solving skills;Risk management skills;Client management;Good communication skills', 'Artistic/Creative Skills;Editing;Designing skills;Python;Good communication skills', 'HR', 'ACCOUNTANCY; FINANCIAL MANAGEMENT; COST ACCOUNTANCY; TAXATION', 'Active Listening;Gathering Information;Artistic/Creative Skills;Communication skills;Negotiation skills;Medical knowledge', 'Active Listening;Hardware skills;Programming Language skills;Critical Thinking;Mass Communication', 'Critical Thinking;Business Knowledge;Analytical Skills;Risk management skills', 'Active Listening;Programming Language skills;Critical Thinking;Business Knowledge;Analytical Skills;Communication skills;Data Visualization skills( Power Bi/ Tableau );Machine Learning skills;Python;Artificial Intelligence;SQL', 'Python, Java, SQL, Oracle, Programming, Logical Skills, C++, Writing, Sales', 'Business Knowledge, Communication Skills, Negotiation Skills, Work under Pressure, Leadership, Editing, Product Knowledge, Team work, Logical Skills, Interpersonal Skills, Presentation Skills, Problem Solving skills, Mass Communication, Writing, Designing Skills, Subject Knowledge', 'Programming Language skills;SQL;Java;Good communication skills', 'Active Listening;Programming Language skills;Critical Thinking;Gathering Information;Artistic/Creative Skills;Business Knowledge;Analytical Skills;People management;Communication skills;Negotiation skills;Mass Communication;Leadership;Editing;Problem Solving skills;Risk management skills;Designing skills;Writing skills;Data Visualization skills( Power Bi/ Tableau );Machine Learning skills;C++;Presentation Skills;Python;SQL;Java;Hospitality;HR;MATLAB;Good communication skills', 'Programming Language skills;Critical Thinking;Analytical Skills;Finance related skills;Communication skills;Negotiation skills;Leadership;Problem Solving skills;Designing skills;Data Visualization skills( Power Bi/ Tableau );Interpersonal skills;Presentation Skills;Python;Artificial Intelligence;Good communication skills;Teaching', 'SQL, Excel, Writing, Reporting, Reading, Building Rapport, Subject Knowledge', 'Analytical Skills;Leadership;Product knowledge;Designing skills;Python', 'Programming Language skills;Critical Thinking;Analytical Skills;Machine Learning skills;Python;SQL;Cloud Computing', 'Programming Language skills;Analytical Skills;Machine Learning skills;Python', 'Programming Language skills;Critical Thinking;Analytical Skills;Communication skills;Writing skills;Data Visualization skills( Power Bi/ Tableau );Machine Learning skills;C++;R;Python;Artificial Intelligence;SQL;Cloud Computing;MATLAB', 'Programming Language skills;Product knowledge;Risk management skills;Machine Learning skills;Python;Excel', 'Problem Solving skills;Process Safety Management', 'Teamwork ;accounting ;business strategy; Team Management ;Marketing; strategic planning; financial analysis ;management; consulting ;budgeting; financial modelling;financial accounting ;Business Development ;corporate finance; financial reporting ;financial planning ;forecasting ;financial forecasting; financial metrics;accounts receivable; back reconciliation; business planning; business management; business analysis; managerial finance; financial structuring', 'Active Listening, Critical Thinking, Gathering Informing, Business Knowledge, Leadership, Team work', 'Artistic/Creative Skills;People management;Communication skills;Mass Communication;Editing;Writing skills', 'Accounting Skills, Python, Analytic Thinking, Gathering Informing, Business Knowledge, Cost Accounting, Sales', 'Active Listening, Critical Thinking, Analytic Thinking, Gathering Informing, Business Knowledge, People Management, Communication Skills, Negotiation Skills, Work under Pressure, Leadership, News Gathering, Product Knowledge, Cost Accounting, Wealth Management, Observation Skills, Risk Managing', 'Critical Thinking, Gathering Informing, Java, Editing, Creativity Skills, Team work, Interpersonal Skills, Building Rapport', 'Python, Excel, Presentation Skills, Writing, Subject Knowledge', 'Active Listening, AI, Critical Thinking, Gathering Informing, Business Knowledge, People Management, Communication Skills, Negotiation Skills, Work under Pressure, Leadership, News Gathering, Product Knowledge, Designing Skills, Architecture and Construction\\xa0', 'Critical Thinking;Analytical Skills;Data Visualization skills( Power Bi/ Tableau );Machine Learning skills;Python;Artificial Intelligence', 'AI, ML, Python, Analytic Thinking, Tableau', 'Programming Language skills;Analytical Skills;Artificial Intelligence;SQL', 'SQL, Oracle, Work under Pressure, Leadership, Editing, Cost Accounting, Creativity Skills, Market Study, Team work, Excel, Linux, Ccna', 'Accounting Skills, Gathering Informing, Business Knowledge, People Management', 'Analytic Thinking, Negotiation Skills, Team work', 'Active Listening;Programming Language skills;Business Knowledge;Analytical Skills;Product knowledge;Data Visualization skills( Power Bi/ Tableau );Machine Learning skills;Python;Artificial Intelligence;SQL;Java', 'Communication Skills, Negotiation Skills, Leadership, Excel, Microsoft Windows, networking basic, Computer hardware, L3 printer', 'Accounting Skills;Active Listening;Gathering Information;Business Knowledge;People management;Leadership;Editing;Problem Solving skills;Data Visualization skills( Power Bi/ Tableau );SQL;Client management', 'Programming Language skills;Problem Solving skills;SQL;Java;Good communication skills', 'Active Listening;Hardware skills;Programming Language skills;Analytical Skills;People management;HR', 'Programming Language skills;Critical Thinking;Leadership;Machine Learning skills;MATLAB', 'Creativity Skills, Programming, Teamwork, Analytical Skills, Excel, Presentation Skills', 'Active Listening;Critical Thinking;Problem Solving skills;Writing skills;Teaching', 'C, python, javascript', 'Critical Thinking;Negotiation skills;Writing skills', 'Critical Thinking, Work under Pressure, Product Knowledge, Excel, Logical Skills, Presentation Skills, Problem Solving skills, Designing Skills', 'Leadership;Data Visualization skills( Power Bi/ Tableau );Python;SQL', 'Accounting Skills;Active Listening;Hardware skills;Programming Language skills;Mass Communication;Editing;Problem Solving skills;Risk management skills;Designing skills;Writing skills;Data Visualization skills( Power Bi/ Tableau )', 'Accounting Skills, Python, Artistic skills, Communication Skills, Team work, Problem Solving skills, Writing, Designing Skills, Sales', 'Analytical Skills;Editing;Python;MATLAB', 'Programming Language skills;Analytical Skills;Python;Good communication skills', 'Problem Solving skills', 'Active Listening, Python, SQL, Programming, People Management, Communication Skills, Work under Pressure, Leadership, Creativity Skills, Team work, Excel, Logical Skills, Interpersonal Skills, Presentation Skills, Wealth Management, C++, R, Problem Solving skills, Mass Communication, Writing, Observation Skills, Risk Managing, Reporting, Reading, Subject Knowledge', 'Accounting Skills, Active Listening, Artistic skills, Business Knowledge, Programming, People Management, Communication Skills, Leadership, Editing, Cost Accounting, Team work, Excel, Interpersonal Skills, Wealth Management, Problem Solving skills, Writing, Reading, Designing Skills, Sales, Subject Knowledge', 'Programming Language skills;Java', ' immunochemistry\\r\\nImmunocytochemistry;\\r\\nImageJ and Zen2012 softwares;\\r\\nSDS-PAGE;\\r\\nThin-Layer Chromatography (TLC);\\r\\nAgarose Gel Electrophoresis;\\r\\nPaper Chromatography', 'Active Listening;Programming Language skills;Critical Thinking;Gathering Information;Analytical Skills;People management;Communication skills;Leadership;Editing;Problem Solving skills;Risk management skills;Writing skills;C++;Presentation Skills;Content creation;Good communication skills', 'Active Listening;Programming Language skills;Critical Thinking;Business Knowledge;Analytical Skills;Communication skills;Negotiation skills;Problem Solving skills;Data Visualization skills( Power Bi/ Tableau );Machine Learning skills;Interpersonal skills;Python;SQL', 'Active Listening;Programming Language skills;Critical Thinking;Gathering Information;Analytical Skills;Product knowledge;Problem Solving skills;C++;Python;SQL;Java;Cloud Computing;PHP;Programming Language C;Javascript', 'Programming Language skills;Critical Thinking;Analytical Skills;Communication skills;SQL', 'Critical Thinking;Gathering Information;Analytical Skills;Python;Artificial Intelligence;SQL', 'Work under Pressure, Team work, Interpersonal Skills, Presentation Skills, Writing', 'Accounting Skills, Critical Thinking, Business Knowledge, Communication Skills, Work under Pressure, Leadership, Excel, Logical Skills, Interpersonal Skills, Presentation Skills, Problem Solving skills, Writing, Reading', 'Accounting Skills;Active Listening', 'Critical Thinking;Business Knowledge;Analytical Skills;Communication skills;Problem Solving skills;Data Visualization skills( Power Bi/ Tableau );Excel', 'Accounting Skills;Active Listening;Critical Thinking;Gathering Information;Artistic/Creative Skills;Business Knowledge;Analytical Skills;People management;Leadership;Hospitality;HR', 'Wealth Management;Java', 'Programming Language skills;Analytical Skills;Leadership;Problem Solving skills;Machine Learning skills;C++;Python;SQL;Java;Good communication skills', 'Accounting Skills;Critical Thinking;People management;Communication skills;Java', 'SQL, Communication Skills, Team work', 'Data Structures;C++;Digital Marketing;Programming;Python (Programming Language);Database Management System (DBMS);MySQL', 'Critical Thinking;Gathering Information;Python;Good communication skills', '\\r\\nInformation Security;Cybersecurity Incident Response;Cyber Threat Intelligence (CTI);ITIL;Server Administration;Network Security;Sumologic;Crowdstrike Falcon;Active Directory;McAfee Antivirus;CiscoASA;ShavlikArcSight;Microsoft Operating Systems;Cisco Firewall Security;Cybersecurity', 'Critical Thinking, People Management, Work under Pressure, Leadership, Team work, Observation Skills', 'Analytical Skills;CAD/CAE(autocad/catia/ansys/proE/SeimensNX)', 'Accounting Skills;Active Listening;Programming Language skills;Critical Thinking;Gathering Information;Artistic/Creative Skills;Business Knowledge;Analytical Skills;Communication skills;Leadership;Editing;Problem Solving skills;Risk management skills;Data Visualization skills( Power Bi/ Tableau );Machine Learning skills;C++;Presentation Skills;R;Python;Good communication skills;Programming Language C', 'Programming Language skills;Critical Thinking;Gathering Information;Artistic/Creative Skills;Analytical Skills;Communication skills;Leadership;Editing;Product knowledge;Problem Solving skills;Risk management skills;Designing skills;Writing skills;Data Visualization skills( Power Bi/ Tableau );Machine Learning skills;Presentation Skills;Python;Artificial Intelligence;SQL;Content creation;MATLAB;Good communication skills', 'Excel, Presentation Skills, Problem Solving skills, Writing', 'Leadership, Product Knowledge', 'Risk management skills;SAP', 'Analytical Skills;Problem Solving skills;Python;SQL', 'Active Listening;Hardware skills;Critical Thinking;Business Knowledge', '\\r\\nElectronics Hardware Design;\\r\\nProduct Development;\\r\\nMicrocontrollers;\\r\\nPCB Design;\\r\\nRobotics;\\r\\nSystem Deployment;\\r\\nGraphic Design;\\r\\nEmbedded Systems;\\r\\nAssembly Language;\\r\\nIOT;\\r\\nBattery Management Systems;Electronic Circuit Design;Electronic Hardware;\\r\\nMechatronics', 'Business Knowledge;Analytical Skills;Proeficiency in Software like STAAD PRO, ETABS', 'Active Listening, Business Knowledge, Work under Pressure, Team work, Interpersonal Skills, Writing', 'Python, Critical Thinking, Analytic Thinking, Gathering Informing, Business Knowledge, SQL, Programming, People Management, Communication Skills, Negotiation Skills, Work under Pressure, Leadership, Product Knowledge, Creativity Skills, Excel, Interpersonal Skills, Presentation Skills, Wealth Management, Linux, Mass Communication, Tableau, Observation Skills, Risk Managing, Reading, Subject Knowledge', 'Analytic Thinking, SQL, Oracle, Programming, Team work, Linux, Building Rapport, Subject Knowledge', 'Critical Thinking;Gathering Information;Communication skills;Writing skills;Machine Learning skills;Python', 'Critical Thinking;Gathering Information;Business Knowledge;People management;Communication skills;Negotiation skills;Mass Communication;Leadership;Problem Solving skills;Risk management skills;Sales;Social Media Marketing', 'People Management, Communication Skills, Negotiation Skills, Leadership, Creativity Skills, Team work, Interpersonal Skills, Presentation Skills', 'Accounting Skills;Wealth Management', 'Programming Language skills;Data Visualization skills( Power Bi/ Tableau );Python;SQL', 'Active Listening;Programming Language skills;Critical Thinking;Business Knowledge;Analytical Skills;Communication skills;Leadership;Problem Solving skills;Risk management skills;Writing skills;Machine Learning skills;Social Media Marketing;Interpersonal skills;Presentation Skills;Python;SQL;Hospitality;HR;Good communication skills', 'Accounting Skills, Active Listening, Business Knowledge, Communication Skills, Leadership, Team work, Writing, Reading, Sales', 'Leadership, Product Knowledge, Interpersonal Skills, Sales', 'ML, Python, SQL, Programming, Excel, Problem Solving skills, Tableau', 'KiCAD;Keil;dc to dc converters;dc to ac converters;dc drives;facts devices;Matlab;Power Systems', 'Analytical Skills;People management;Leadership;Product knowledge;Data Visualization skills( Power Bi/ Tableau );Machine Learning skills;Python;SQL', 'Finance related skills;Civil & Criminal Law;Negotiation skills;Good communication skills', 'Gathering Informing, Interpersonal Skills, Building Rapport, Subject Knowledge', 'Active Listening;Gathering Information;Communication skills;Mass Communication', 'Active Listening, Python, Critical Thinking, Analytic Thinking, Gathering Informing, Artistic skills, Communication Skills, Work under Pressure, Excel', 'Active Listening, ML, Python, Critical Thinking, Analytic Thinking, Gathering Informing, Artistic skills, Business Knowledge, Java, SQL, Oracle, Programming, People Management, Communication Skills, Work under Pressure, Leadership, News Gathering, Editing, Product Knowledge, Creativity Skills, Excel, Interpersonal Skills, Presentation Skills, Wealth Management, Problem Solving skills, Mass Communication, Writing, Risk Managing, Designing Skills', 'Hardware skills;Programming Language skills;Data Visualization skills( Power Bi/ Tableau );R;Python;SQL', 'ML, Python, SQL, Excel, R, Tableau', 'Critical Thinking, Communication Skills, Leadership, Team work, Writing', 'Designing skills;Java', 'R;Python', 'Communication Skills, Work under Pressure, Leadership, Team work, Excel, Problem Solving skills, Reading', 'Business Knowledge;Communication skills;Leadership;Designing skills;Data Visualization skills( Power Bi/ Tableau );Machine Learning skills;Interpersonal skills;C++;Presentation Skills;R;Python;SQL;Cloud Computing;Good communication skills;AWS;Programming Language C', 'Active Listening;Hardware skills;Business Knowledge;Communication skills;Negotiation skills;Mass Communication;Problem Solving skills;Sales;Social Media Marketing;Hospitality;Good communication skills', 'Business Knowledge;Leadership;Product knowledge;Problem Solving skills;Risk management skills;Sales;HR', 'Business Knowledge;Analytical Skills;People management;Communication skills;Negotiation skills;Leadership;Problem Solving skills;Data Visualization skills( Power Bi/ Tableau );Machine Learning skills;Wealth Management;Python;SQL', 'Analytical Skills', 'Active Listening;Hardware skills;Critical Thinking;Communication skills;Leadership;Problem Solving skills;Risk management skills;Writing skills;Data Visualization skills( Power Bi/ Tableau );Machine Learning skills;Presentation Skills;Python;SQL', 'Critical Thinking, Analytic Thinking, Team work, Problem Solving skills, Reading', 'Programming Language skills;Linux;SQL;Java', 'Active Listening;Programming Language skills;Gathering Information', 'Active Listening;Good communication skills;Teaching', 'Active Listening;Programming Language skills;Java', 'Critical Thinking;Gathering Information;Civil & Criminal Law', 'Work under Pressure, Team work', 'Programming Language skills;Critical Thinking;Gathering Information;Business Knowledge;Analytical Skills;Finance related skills;People management;Civil & Criminal Law', 'Team work, Observation Skills', 'Analytical Skills;Machine Learning skills;Sales;Python;HR', 'Active Listening;Civil & Criminal Law', 'Social Media Marketing', 'Communication skills;Leadership;Problem Solving skills;Hospitality;HR;Client management;Good communication skills;Foreign languages french, Spanish ', 'ML, Python', 'Programming Language skills;Writing skills;Data Visualization skills( Power Bi/ Tableau );Machine Learning skills;Python;SQL', 'Programming Language skills;Business Knowledge;Designing skills;Writing skills;Sales;Social Media Marketing;Presentation Skills', 'Leadership, Mass Communication, Reading, Sales', 'ML, Python, Critical Thinking, Analytic Thinking, SQL, Editing, Excel, Logical Skills, Interpersonal Skills, Presentation Skills, C++, Reading', 'Leadership;Product knowledge;Problem Solving skills', 'AI, ML, Python, Critical Thinking, Analytic Thinking, SQL, Communication Skills, Negotiation Skills, Work under Pressure, Leadership, Editing, Creativity Skills, Market Study, Team work, Logical Skills, Interpersonal Skills, Presentation Skills, Problem Solving skills, Mass Communication, Observation Skills, Risk Managing, Reporting, Reading, Designing Skills, Sales', 'Programming Language skills;Critical Thinking;Analytical Skills', 'Analytic Thinking', 'Communication skills;Presentation Skills;Artificial Intelligence', 'People management;Architecture', 'Programming Language skills;Analytical Skills;Negotiation skills;Leadership;Problem Solving skills;Python', 'Editing;Python', 'Hardware skills;Python;Us & Canada Recruitment (IT)', 'Network engineer\\xa0', 'AI, Python, Editing, Problem Solving skills', 'Business Knowledge;People management;Product knowledge', 'Programming Language skills;Analytical Skills;Data Visualization skills( Power Bi/ Tableau );Machine Learning skills;Python;SQL;Excel', 'Active Listening, Analytic Thinking, Business Knowledge, People Management, Communication Skills, Leadership, Product Knowledge, Creativity Skills, Market Study, Team work, Logical Skills, Presentation Skills, Writing, Observation Skills', 'Analytical Skills;People management;Communication skills;Mass Communication;Leadership;Editing;Problem Solving skills;Data Visualization skills( Power Bi/ Tableau );Python;HR;Good communication skills;Teaching', 'DevOps;Kubernetes;Docker;Jenkins;Linux;Bash Script;Grafana;Elastic Stack (ELK);Amazon Web Services (AWS);Git;Linux System Administration;Ansible;Elasticsearch;OpenStack;Apache Kafka;Redis;docker;Bash;prometheus;Nginx', 'C,C++,Java,JavaScript,Python', 'Active Listening, Analytic Thinking, Gathering Informing, Artistic skills, Business Knowledge, SQL, Communication Skills, News Gathering, Editing, Creativity Skills, Team work, Excel, Presentation Skills, C++, Writing, Reading, Designing Skills', 'Machine Learning skills;Python;Artificial Intelligence;SQL', 'Recruiting', 'Critical Thinking;Gathering Information;Leadership;Editing;Product knowledge;Problem Solving skills;Writing skills;Machine Learning skills;Interpersonal skills;Medical knowledge', 'Active Listening;Critical Thinking;Gathering Information;Artistic/Creative Skills;Business Knowledge;People management;Communication skills;Negotiation skills;Mass Communication;Leadership;Product knowledge;Problem Solving skills;Risk management skills;Designing skills;Writing skills;Data Visualization skills( Power Bi/ Tableau );Sales;Social Media Marketing;Interpersonal skills;Wealth Management;Presentation Skills;R;Python;SQL;Content creation;Good communication skills', 'Active Listening, Critical Thinking, Analytic Thinking, Gathering Informing, Business Knowledge, Leadership, Market Study, Team work, Interpersonal Skills, Wealth Management, Risk Managing', 'Artistic skills, Business Knowledge, People Management, Editing, Product Knowledge, Creativity Skills, Team work, Designing Skills', 'Critical Thinking;People management;Leadership;Product knowledge;Problem Solving skills;SAP', 'Hardware skills;Writing skills;Good communication skills', 'Gathering Informing, Communication Skills, Editing, Presentation Skills, Observation Skills, Reading, Subject Knowledge', 'Business Knowledge;Leadership;Editing;Risk management skills;Writing skills;Data Visualization skills( Power Bi/ Tableau );Machine Learning skills;C++;Python;Java', 'Accounting Skills;People management', 'Accounting Skills;Business Knowledge;Finance related skills;Risk management skills;Wealth Management', 'Active Listening;Gathering Information;Business Knowledge;Good communication skills', 'Analytical Skills;Communication skills', 'Active Listening;Critical Thinking;Gathering Information;Artistic/Creative Skills;People management;Communication skills;Negotiation skills;Mass Communication;Editing;Problem Solving skills;Writing skills;Social Media Marketing;Presentation Skills;Content creation', 'JS, PHP,CSS,HTML, Android', 'Python;SQL;Java;Cloud Computing', 'Programming Language skills;SQL;Java;Cloud Computing', 'Accounting Skills, Active Listening, Critical Thinking, Analytic Thinking, Gathering Informing, Business Knowledge, People Management, Communication Skills, Negotiation Skills, Leadership, Product Knowledge, Cost Accounting, Excel', 'Full stack, SQL', 'Business Knowledge;Analytical Skills;Data Visualization skills( Power Bi/ Tableau );C++;Linux;Python;Java', 'Programming Language skills;C++', 'Problem Solving skills;C++;SQL;Java', 'Derivatives', 'People management;SAP', 'Critical Thinking;People management;Communication skills;Mass Communication;Leadership;Problem Solving skills;Risk management skills;Interpersonal skills;Hospitality;Good communication skills', 'Active Listening;Communication skills;Product knowledge;Problem Solving skills;Hospitality', 'Active Listening;Critical Thinking;Business Knowledge;Analytical Skills;Data Visualization skills( Power Bi/ Tableau );Social Media Marketing;Interpersonal skills;C++;R;Python;SQL', 'SQL, Communication Skills', 'Active Listening;Gathering Information;Artistic/Creative Skills;Communication skills;Problem Solving skills;Presentation Skills;Python;Hospitality', '\\r\\nProject Finance;Financial Modeling;Business Strategy', 'Accounting Skills, Active Listening, Artistic skills, People Management, Civil & Criminal Law, Communication Skills, Negotiation Skills, Work under Pressure, Leadership, Creativity Skills, Logical Skills, Interpersonal Skills, Problem Solving skills, Observation Skills, Risk Managing, Designing Skills', 'Accounting Skills, Active Listening, ML, Critical Thinking, Artistic skills, Java, Communication Skills, News Gathering, Product Knowledge', 'Accounting Skills;Hardware skills;Programming Language skills;Gathering Information;People management;Risk management skills;Writing skills;C++;Python;SQL;Java;Hospitality', 'Programming Language skills;Python;SQL', 'Gathering Informing, Business Knowledge, SQL, Leadership, Writing, Designing Skills', 'People management', 'Teaching\\xa0', 'Programming Language skills;Leadership;Problem Solving skills;SQL;PHP', 'Hardware skills;Critical Thinking;Artistic/Creative Skills;Analytical Skills;People management;Civil & Criminal Law;Communication skills;Sales;Social Media Marketing;Linux;Proeficiency in Software like STAAD PRO, ETABS;MATLAB', '\\r\\nThreat & Vulnerability Management;Endpoint Security;Vulnerability Assessment;ISO 27001;Information Security;proofpoint;Palo Alto Networks;Symantec Endpoint Protection;SophosS;Vulnerability Management;Security Information and Event Management (SIEM);Threat Analysis;Threat Assessment;Splunk;ISO 27001 Lead Auditor;Pki;Cyber Security Risk;Cybersecurity Incident Response;Vulnerability Scanning;Security', 'Critical Thinking, Business Knowledge, Civil & Criminal Law, Communication Skills, Negotiation Skills, Work under Pressure, News Gathering, Product Knowledge, Market Study, Team work, Excel', 'Active Listening;Critical Thinking;Gathering Information;Artistic/Creative Skills;Business Knowledge;Analytical Skills;People management;Leadership;Problem Solving skills;Risk management skills;Designing skills;Writing skills;Interpersonal skills', 'Negotiation skills;Leadership;Editing;Python;Teaching;Programming Language C', 'Active Listening;Gathering Information;Artistic/Creative Skills;People management;Communication skills;Mass Communication;Problem Solving skills;Writing skills;Social Media Marketing;Content creation;Client management', 'Business Knowledge, Communication Skills', 'Programming Language skills;Communication skills;Problem Solving skills;Python;MATLAB', 'Logical Skills, Presentation Skills, Observation Skills, Subject Knowledge', 'Active Listening, AI, Critical Thinking, Analytic Thinking, Artistic skills, Java, Communication Skills, Work under Pressure, Leadership, Editing, Product Knowledge, Creativity Skills, Team work, Excel, Logical Skills, Interpersonal Skills, Presentation Skills, Mass Communication, Writing, Tableau, Reading, Designing Skills', 'Python, Critical Thinking, Programming, Editing, Creativity Skills, Market Study, Team work, Excel, C++, Linux, Problem Solving skills', 'Real-Time Polymerase Chain Reaction (qPCR);\\r\\nEnvironmental Biotechnology;\\r\\nMolecular Biology', 'C++;R;Linux;Python;Artificial Intelligence;SQL;Java', 'Programming Language skills;Gathering Information;Analytical Skills;Python;Artificial Intelligence', nan, 'Programming Language skills;Critical Thinking;Gathering Information;People management;Communication skills;Leadership;SQL;Java', 'Active Listening;Gathering Information;Communication skills;Product knowledge;Writing skills;Presentation Skills;Good communication skills', 'Programming Language skills;Analytical Skills;Communication skills;Leadership;Machine Learning skills;Python', 'Programming Language skills;Critical Thinking;Analytical Skills;Communication skills;Machine Learning skills;Python;Artificial Intelligence;SQL', 'Programming Language skills;Business Knowledge;Analytical Skills;Communication skills;Problem Solving skills;Data Visualization skills( Power Bi/ Tableau );Machine Learning skills;Python;Artificial Intelligence;SQL;MATLAB', 'Wealth Management, Problem Solving skills', 'Active Listening;Programming Language skills;Critical Thinking;Artistic/Creative Skills;Analytical Skills;People management;Communication skills;Negotiation skills;Leadership;Problem Solving skills;Risk management skills;Writing skills;Data Visualization skills( Power Bi/ Tableau );R;Python;Artificial Intelligence;SQL;Good communication skills', 'Web Application Security;Vulnerability Assessment;OWASP;Penetration Testing;Shell Scripting;Python (Programming Language);Ethical Hacking;Web Application Security Assessment;Application Security', 'Programming Language skills;Machine Learning skills;Python;SQL', 'Active Listening, Artistic skills, Communication Skills, Work under Pressure, Editing, Product Knowledge, Creativity Skills, Market Study, Team work, Excel, Sales', 'Active Listening;Programming Language skills;Critical Thinking;Gathering Information;Business Knowledge;Analytical Skills;Finance related skills;People management;Communication skills;Mass Communication;Leadership;Product knowledge;Problem Solving skills;Writing skills;Data Visualization skills( Power Bi/ Tableau );Machine Learning skills;Interpersonal skills;Wealth Management;Presentation Skills;Linux;Python;Artificial Intelligence;SQL;Java;Cloud Computing', 'Data Visualization skills( Power Bi/ Tableau );Machine Learning skills;C++;Artificial Intelligence;SQL', 'Programming Language skills;Critical Thinking;Machine Learning skills;Python', 'AI, ML, Python, Analytic Thinking, Business Knowledge, Java, SQL, Oracle, Programming, People Management, C++, R', 'Active Listening, Python, Critical Thinking, Analytic Thinking, Java, SQL, Oracle, Programming, People Management, Leadership, Team work, Logical Skills, Interpersonal Skills, C++, Problem Solving skills, Writing, Building Rapport, Subject Knowledge', 'Active Listening;Hardware skills;Programming Language skills;Gathering Information;Communication skills;Negotiation skills;Leadership;Problem Solving skills;Risk management skills;Designing skills;Writing skills;Data Visualization skills( Power Bi/ Tableau );Machine Learning skills;Interpersonal skills;C++;Presentation Skills;R;Python;Artificial Intelligence;SQL;Java;Architecture;Good communication skills', 'Java, Programming, Creativity Skills, Team work, Excel, Linux', 'Active Listening, Programming, Work under Pressure, Teamwork,Excel, Interpersonal Skills, Presentation skills, Reading', 'Hospitality', 'Business Knowledge;Analytical Skills;Finance related skills;Communication skills;Negotiation skills;Product knowledge;Problem Solving skills;Risk management skills;Client management', 'Critical Thinking;Artistic/Creative Skills;Analytical Skills;Communication skills;Problem Solving skills;SQL', 'Negotiation skills;HR', 'Active Listening;Artistic/Creative Skills;Communication skills;Mass Communication;Problem Solving skills', 'Business Knowledge;Finance related skills;People management;Communication skills;Negotiation skills;Problem Solving skills;Sales;Presentation Skills', 'Accounting Skills, Python, Java, SQL, Oracle, Programming', 'Excel, Presentation Skills, Writing', 'Civil & Criminal Law, Work under Pressure', 'Critical Thinking;Business Knowledge;Analytical Skills;Communication skills;Negotiation skills;Leadership;Problem Solving skills;Risk management skills;Good communication skills;SAP', 'Analytical Skills;Problem Solving skills', 'Active Listening;Business Knowledge;Communication skills;Sales', 'Accounting Skills;Active Listening;Critical Thinking;Gathering Information;Python', 'Critical Thinking, Analytic Thinking, Java, SQL, Programming, Communication Skills, Work under Pressure, Leadership, Team work, Interpersonal Skills, Presentation Skills, Problem Solving skills, Writing, Observation Skills, Reporting, Reading', 'Active Listening, Communication Skills, Work under Pressure, News Gathering, Reporting, Reading, Subject Knowledge', 'Team work, Linux, Problem Solving skills', 'Active Listening;Problem Solving skills;Designing skills', 'AI, Java', 'People management;Editing;Designing skills;Writing skills;Teaching', 'Active Listening;Leadership;Editing;Designing skills;Writing skills;Client management;Teaching', 'Programming Language skills;Critical Thinking;Analytical Skills;Python', 'Critical Thinking, Analytic Thinking, Gathering Informing', 'Python, Programming, Excel, Linux', 'Active Listening;Business Knowledge;People management;Leadership;Product knowledge;Problem Solving skills;Risk management skills;Designing skills;Machine Learning skills;Python;SQL', 'Critical Thinking;Analytical Skills;Negotiation skills;Problem Solving skills;Risk management skills;Data Visualization skills( Power Bi/ Tableau );Machine Learning skills;Python;Artificial Intelligence;SQL', 'Teamwork;Time Management;Company Secretarial Work;', 'Risk management skills;Data Visualization skills( Power Bi/ Tableau );SQL;SAP', 'Analytic Thinking, Business Knowledge, Java, SQL, Communication Skills, Work under Pressure, Product Knowledge, Team work, Excel, Problem Solving skills, Observation Skills, Reporting, Reading, Subject Knowledge', 'AI, ML, Python, Critical Thinking, Analytic Thinking, Artistic skills, SQL', 'Active Listening;Hardware skills;Programming Language skills;Critical Thinking;Gathering Information;Artistic/Creative Skills;Business Knowledge;Analytical Skills;Finance related skills;Communication skills;Negotiation skills;Mass Communication;Leadership;Editing;Problem Solving skills;Data Visualization skills( Power Bi/ Tableau );Machine Learning skills;C++;Presentation Skills;R;Linux;Python;SQL;Java;MATLAB', 'Editing, Designing Skills, Sales', 'Accounting Skills;Active Listening;Hardware skills;Programming Language skills;Critical Thinking;Artistic/Creative Skills;Business Knowledge;Analytical Skills;Finance related skills;People management;Communication skills;Negotiation skills;Mass Communication;Leadership;Editing;Problem Solving skills;Risk management skills;Designing skills;Writing skills;Data Visualization skills( Power Bi/ Tableau );Machine Learning skills;Sales;Social Media Marketing;Interpersonal skills;Wealth Management;Hospitality;Client management;Good communication skills;Teaching', 'Programming Language skills;Analytical Skills;Leadership;Data Visualization skills( Power Bi/ Tableau );Machine Learning skills;Python;SQL;Cloud Computing;Good communication skills', 'Communication Skills, Work under Pressure, Leadership', 'Programming Language skills;Analytical Skills;R;Python', 'networking', 'AI, ML, Python, C++, R, Linux', 'Programming Language skills;Analytical Skills;Data Visualization skills( Power Bi/ Tableau );Machine Learning skills;R;Python;Artificial Intelligence', 'Business Knowledge;People management;Machine Learning skills;Hospitality', 'AI, Python, Programming, Communication Skills, C++', 'Accounting Skills;Active Listening;Hardware skills;Critical Thinking;Gathering Information;Business Knowledge;Analytical Skills;Finance related skills;Mass Communication;Leadership;Product knowledge;Problem Solving skills;Risk management skills;Writing skills;HR', 'Node.js;Angular;JIRA;TRELLO;Jquery;Javascript;Ajax;PHP;Codeignitor;Loopback;', 'Active Listening,Work under Pressure,Team work,Presentation skills', 'Accounting Skills;Active Listening;Critical Thinking;Gathering Information;Artistic/Creative Skills;Communication skills;Negotiation skills;Leadership;Content creation', 'AutoCard', 'Critical Thinking;Business Knowledge;Analytical Skills;Leadership;Writing skills;Python;Artificial Intelligence;SQL', 'Active Listening;Gathering Information;Problem Solving skills;Python;MATLAB', 'Communication skills;Mass Communication;Leadership;Problem Solving skills;Python', 'Active Listening;Programming Language skills;Gathering Information;Python;SQL;Programming Language C', 'Hardware skills;Programming Language skills;Critical Thinking;Business Knowledge;Leadership;Data Visualization skills( Power Bi/ Tableau );Python;Artificial Intelligence;Good communication skills', 'Analytic Thinking, Communication Skills, Leadership, Team work, Designing Skills', 'Accounting Skills, Active Listening, Java, SQL, Programming, Communication Skills, Negotiation Skills, Work under Pressure, Leadership, Team work, Excel, Logical Skills, Presentation Skills, Problem Solving skills, Mass Communication, Writing, Observation Skills, Reading', 'Critical Thinking, Analytic Thinking, Market Study', 'Proeficiency in Software like STAAD PRO, ETABS;construction management', 'Python, Tableau', 'R;Python;SQL', 'Programming Language skills;People management', 'Problem Solving skills;Data Visualization skills( Power Bi/ Tableau );C++;Java', 'Hardware skills;Business Knowledge', 'Creativity Skills', 'Active Listening;Gathering Information;Communication skills;Leadership;Problem Solving skills;Designing skills;Python;Good communication skills', 'Gathering Informing, Business Knowledge, Leadership, Market Study, Observation Skills, Risk Managing', 'Critical Thinking;Artistic/Creative Skills;Analytical Skills;Civil & Criminal Law;Problem Solving skills;Risk management skills;Writing skills;Interpersonal skills;Presentation Skills', 'Proeficiency in Software like STAAD PRO, ETABS;Good communication skills;Refinery Operations', 'Active Listening;Hardware skills;Problem Solving skills;Risk management skills;Sales', 'Hardware skills;Programming Language skills;Analytical Skills;People management;Communication skills;Leadership;Data Visualization skills( Power Bi/ Tableau );C++;R;Python;Content creation', 'Programming Language skills;Communication skills;Leadership;Product knowledge;Designing skills;Writing skills;C++;Python;SQL;Java', 'Business Knowledge;People management;Communication skills;Problem Solving skills;Sales;Social Media Marketing;Interpersonal skills;Presentation Skills', 'Accounting Skills;Hardware skills;Business Knowledge;Finance related skills;Communication skills;Social Media Marketing;Content creation;Teaching;Foreign languages french, Spanish', 'Java, Programming, C++, R', 'Active Listening;Problem Solving skills;Teaching;Teaching experience', 'Designing skills;C++;Python', 'Critical Thinking;Mass Communication;Leadership;Editing;Designing skills;Cloud Computing;SAP;Salesforce Admin', 'Automation ', 'Accounting Skills;Active Listening;Hardware skills;Business Knowledge;Problem Solving skills', 'Data Structures;Algorithms;Competitive Programming;C++;JavaScript;JavaJava;Git;IntelliJIDEA;Xcode;Problem Solving;AndroidStudio;Webstorm;Postman API;HTML5;Cascading Style Sheets (CSS);Software Development;Core Java;Bootstrap;JUnit;react;Back-End Web Development;Spring Framework;Hibernate;CPP;Database Management System (DBMS);Linux;Debugging;Object-Oriented Programming (OOP);Object Oriented Design;Databases', 'Active Listening;Programming Language skills;Critical Thinking;Analytical Skills;Communication skills;Problem Solving skills;Python', 'Programming Language skills;C++;Python;Java', 'Programming Language skills;Communication skills;C++', 'Active Listening;Critical Thinking;Analytical Skills;Finance related skills', 'Data Visualization skills( Power Bi/ Tableau );Machine Learning skills;R;Python;Artificial Intelligence;SQL', '\\r\\nC++;Unity 3D;Object-Oriented Programming (OOP);Game Development;Data Structures;C#;Unreal Engine 4;C (Programming Language)', 'Reading, Subject Knowledge', 'Risk management skills;Social Media Marketing', 'Active Listening;Critical Thinking;Gathering Information;People management;Problem Solving skills;Risk management skills', 'ML, Python, SQL, Programming, Team work, Excel, Logical Skills, Presentation Skills, Tableau', 'Programming Language skills;Analytical Skills;Problem Solving skills;Data Visualization skills( Power Bi/ Tableau );Machine Learning skills;R;Python;Artificial Intelligence;SQL;Good communication skills', 'Accounting Skills;Active Listening;Hardware skills;Programming Language skills;Analytical Skills;Editing;HR', 'Accounting Skills;Critical Thinking;Editing;Content creation', 'Programming Language skills;Critical Thinking;Gathering Information;Communication skills;Negotiation skills;Mass Communication;Leadership;Editing;Problem Solving skills;Risk management skills;C++;Presentation Skills;Linux;Python;Content creation;Java;Cloud Computing;MATLAB;Good communication skills;SAP;AWS;Salesforce Admin', 'Active Listening;Critical Thinking;Gathering Information;Artistic/Creative Skills;Business Knowledge;Analytical Skills;People management;Communication skills;Problem Solving skills;Writing skills;Machine Learning skills;Python;Artificial Intelligence;Automation', 'Critical Thinking, Analytic Thinking, Problem Solving skills', 'Critical Thinking;Artistic/Creative Skills;Analytical Skills;Problem Solving skills;Risk management skills;Artificial Intelligence;Good communication skills', 'Machine Learning skills;Python', 'Active Listening;Business Knowledge;Analytical Skills;Communication skills;Leadership;Problem Solving skills;Sales;Social Media Marketing;Good communication skills;Teaching', 'Active Listening;Communication skills;Negotiation skills;Problem Solving skills;Client management', 'Active Listening, Analytic Thinking, Gathering Informing, Work under Pressure, Team work, Excel, Logical Skills, Reporting', 'Gathering Information;Analytical Skills;Communication skills;Leadership;Data Visualization skills( Power Bi/ Tableau );Interpersonal skills', 'Critical Thinking;Business Knowledge;Leadership;Risk management skills;C++;SQL;Java', 'Analytical Skills;Data Visualization skills( Power Bi/ Tableau );Machine Learning skills;Python;Artificial Intelligence', 'Accounting Skills;Active Listening;Finance related skills;People management', 'Active Listening;Artistic/Creative Skills;Communication skills;Sales;Python;Good communication skills;Teaching;Teaching experience', 'Programming Language skills;Analytical Skills;Data Visualization skills( Power Bi/ Tableau );Machine Learning skills;R;Python;SQL', 'ML, Python, Analytic Thinking, SQL, Communication Skills, Tableau', 'AI, Python, Java, SQL, Programming, Communication Skills, Leadership, Editing, Team work, Excel, Logical Skills, C++, Linux, Problem Solving skills', 'Programming Language skills;Communication skills;Leadership;Java', 'SQL, Derivatives, Linux', '\\r\\nCloud Computing;Microsoft Azure;Amazon Web Services (AWS)docker;Jenkins;Git;Kubernetes;Powershell;MySQL;Big Data Analytics', 'Accounting Skills;Gathering Information;Finance related skills;Writing skills', 'Accounting Skills, Active Listening, Critical Thinking, Analytic Thinking, Java, Communication Skills, Cost Accounting, Excel', '\\r\\nProduct Management;User Experience (UX);Product Development;Account Management;Product Strategy;Project Resourcing', 'Communication skills;Data Visualization skills( Power Bi/ Tableau )', 'Python, SQL, Oracle', 'SQL, Problem Solving skills', 'Programming Language skills;Critical Thinking;Analytical Skills;Editing;Data Visualization skills( Power Bi/ Tableau );SQL', 'AI, Java, SQL, C++, R, Linux']\n"
          ]
        },
        {
          "data": {
            "text/plain": [
              "1008"
            ]
          },
          "execution_count": 522,
          "metadata": {},
          "output_type": "execute_result"
        }
      ],
      "source": [
        "list1 =[]\n",
        "for x in df['Skills'].unique():\n",
        "    list1.append(x)\n",
        "for y in list1.\n"
      ]
    },
    {
      "cell_type": "code",
      "execution_count": 523,
      "metadata": {},
      "outputs": [
        {
          "name": "stdout",
          "output_type": "stream",
          "text": [
            "      Gender  Interest  Skills  Any_Add_Cert_Courses  Cert_Courses_Desc  \\\n",
            "0          0         7     943                     2                314   \n",
            "1          1       476     541                     2                338   \n",
            "2          0       580     766                     2                428   \n",
            "3          0       401     134                     1                355   \n",
            "4          0       476      11                     2                244   \n",
            "...      ...       ...     ...                   ...                ...   \n",
            "1190       1       476     935                     1                 25   \n",
            "1191       1       476     962                     1                355   \n",
            "1192       1       492     841                     2                463   \n",
            "1193       1       103      25                     1                355   \n",
            "1194       1         3      21                     2                 15   \n",
            "\n",
            "      Course  \n",
            "0         13  \n",
            "1          6  \n",
            "2         15  \n",
            "3         50  \n",
            "4         14  \n",
            "...      ...  \n",
            "1190      14  \n",
            "1191      13  \n",
            "1192      14  \n",
            "1193      22  \n",
            "1194      13  \n",
            "\n",
            "[1195 rows x 6 columns]\n"
          ]
        }
      ],
      "source": [
        "from sklearn.preprocessing import LabelEncoder\n",
        "\n",
        "label_encoder = LabelEncoder()\n",
        "\n",
        "# Iterate over each column in the dataframe\n",
        "for column in df.columns:\n",
        "    # Check if the column is of object type\n",
        "    if df[column].dtype == 'object':\n",
        "        # Apply label encoding\n",
        "        df[column] = label_encoder.fit_transform(df[column])\n",
        "\n",
        "# Print the updated dataframe\n",
        "print(df)\n"
      ]
    },
    {
      "cell_type": "code",
      "execution_count": 524,
      "metadata": {},
      "outputs": [
        {
          "data": {
            "text/html": [
              "<div>\n",
              "<style scoped>\n",
              "    .dataframe tbody tr th:only-of-type {\n",
              "        vertical-align: middle;\n",
              "    }\n",
              "\n",
              "    .dataframe tbody tr th {\n",
              "        vertical-align: top;\n",
              "    }\n",
              "\n",
              "    .dataframe thead th {\n",
              "        text-align: right;\n",
              "    }\n",
              "</style>\n",
              "<table border=\"1\" class=\"dataframe\">\n",
              "  <thead>\n",
              "    <tr style=\"text-align: right;\">\n",
              "      <th></th>\n",
              "      <th>Gender</th>\n",
              "      <th>Interest</th>\n",
              "      <th>Skills</th>\n",
              "      <th>Any_Add_Cert_Courses</th>\n",
              "      <th>Cert_Courses_Desc</th>\n",
              "      <th>Course</th>\n",
              "    </tr>\n",
              "  </thead>\n",
              "  <tbody>\n",
              "    <tr>\n",
              "      <th>0</th>\n",
              "      <td>0</td>\n",
              "      <td>7</td>\n",
              "      <td>943</td>\n",
              "      <td>2</td>\n",
              "      <td>314</td>\n",
              "      <td>13</td>\n",
              "    </tr>\n",
              "    <tr>\n",
              "      <th>1</th>\n",
              "      <td>1</td>\n",
              "      <td>476</td>\n",
              "      <td>541</td>\n",
              "      <td>2</td>\n",
              "      <td>338</td>\n",
              "      <td>6</td>\n",
              "    </tr>\n",
              "    <tr>\n",
              "      <th>2</th>\n",
              "      <td>0</td>\n",
              "      <td>580</td>\n",
              "      <td>766</td>\n",
              "      <td>2</td>\n",
              "      <td>428</td>\n",
              "      <td>15</td>\n",
              "    </tr>\n",
              "    <tr>\n",
              "      <th>3</th>\n",
              "      <td>0</td>\n",
              "      <td>401</td>\n",
              "      <td>134</td>\n",
              "      <td>1</td>\n",
              "      <td>355</td>\n",
              "      <td>50</td>\n",
              "    </tr>\n",
              "    <tr>\n",
              "      <th>4</th>\n",
              "      <td>0</td>\n",
              "      <td>476</td>\n",
              "      <td>11</td>\n",
              "      <td>2</td>\n",
              "      <td>244</td>\n",
              "      <td>14</td>\n",
              "    </tr>\n",
              "  </tbody>\n",
              "</table>\n",
              "</div>"
            ],
            "text/plain": [
              "   Gender  Interest  Skills  Any_Add_Cert_Courses  Cert_Courses_Desc  Course\n",
              "0       0         7     943                     2                314      13\n",
              "1       1       476     541                     2                338       6\n",
              "2       0       580     766                     2                428      15\n",
              "3       0       401     134                     1                355      50\n",
              "4       0       476      11                     2                244      14"
            ]
          },
          "execution_count": 524,
          "metadata": {},
          "output_type": "execute_result"
        }
      ],
      "source": [
        "df.head()"
      ]
    },
    {
      "cell_type": "code",
      "execution_count": 525,
      "metadata": {},
      "outputs": [],
      "source": [
        "X_Values = df.iloc[:,:-1].values\n",
        "Y_Values = df.iloc[:,-1:].values\n",
        "from sklearn.model_selection import train_test_split\n",
        "from sklearn.neighbors import KNeighborsClassifier\n",
        "\n",
        "# Split the data into train and test sets\n",
        "X_train, X_test, Y_train, Y_test = train_test_split(X_Values, Y_Values, test_size=0.33, random_state=42)\n",
        "\n",
        "# Create the KNN model\n",
        "model = KNeighborsClassifier(n_neighbors=3)\n"
      ]
    },
    {
      "cell_type": "code",
      "execution_count": 526,
      "metadata": {},
      "outputs": [
        {
          "name": "stdout",
          "output_type": "stream",
          "text": [
            "Accuracy on test set by our model       :   33.41772151898734\n"
          ]
        },
        {
          "name": "stderr",
          "output_type": "stream",
          "text": [
            "/Users/parani/Documents/GitHub/SDGP-SE4/venv/lib/python3.12/site-packages/sklearn/neighbors/_classification.py:238: DataConversionWarning: A column-vector y was passed when a 1d array was expected. Please change the shape of y to (n_samples,), for example using ravel().\n",
            "  return self._fit(X, y)\n"
          ]
        }
      ],
      "source": [
        "model.fit(X_train,Y_train)\n",
        "\n",
        "Y_predictions = model.predict(X_test)\n",
        "\n",
        "correctly_classified = 0\n",
        "\n",
        "count = 0\n",
        "\n",
        "for count in range( np.size( Y_predictions ) ) :\n",
        "    if Y_test[count] == Y_predictions[count] :\n",
        "        correctly_classified = correctly_classified + 1\n",
        "    count = count + 1\n",
        "\n",
        "print( \"Accuracy on test set by our model       :  \", (\n",
        "      correctly_classified / count ) * 100 )"
      ]
    },
    {
      "cell_type": "code",
      "execution_count": 527,
      "metadata": {
        "colab": {
          "base_uri": "https://localhost:8080/"
        },
        "id": "PIMLB2D5Wffp",
        "outputId": "0ef9636f-8c56-4e7c-f9ee-1af0be073e65"
      },
      "outputs": [
        {
          "name": "stdout",
          "output_type": "stream",
          "text": [
            "Accuracy on test set by our model       :   33.41772151898734\n"
          ]
        },
        {
          "name": "stderr",
          "output_type": "stream",
          "text": [
            "/Users/parani/Documents/GitHub/SDGP-SE4/venv/lib/python3.12/site-packages/sklearn/neighbors/_classification.py:238: DataConversionWarning: A column-vector y was passed when a 1d array was expected. Please change the shape of y to (n_samples,), for example using ravel().\n",
            "  return self._fit(X, y)\n"
          ]
        }
      ],
      "source": [
        "from sklearn.neighbors import KNeighborsClassifier\n",
        "model = KNeighborsClassifier( n_neighbors=3)\n",
        "model.fit(X_train,Y_train)\n",
        "\n",
        "Y_predictions = model.predict(X_test)\n",
        "\n",
        "correctly_classified = 0\n",
        "\n",
        "count = 0\n",
        "\n",
        "for count in range( np.size( Y_predictions ) ) :\n",
        "    if Y_test[count] == Y_predictions[count] :\n",
        "        correctly_classified = correctly_classified + 1\n",
        "    count = count + 1\n",
        "\n",
        "print( \"Accuracy on test set by our model       :  \", (\n",
        "      correctly_classified / count ) * 100 )"
      ]
    },
    {
      "cell_type": "code",
      "execution_count": 528,
      "metadata": {
        "id": "XoP_Dxs2Y3r5"
      },
      "outputs": [
        {
          "name": "stdout",
          "output_type": "stream",
          "text": [
            "              precision    recall  f1-score   support\n",
            "\n",
            "           0       0.00      0.00      0.00         0\n",
            "           1       0.00      0.00      0.00         1\n",
            "           2       0.00      0.00      0.00         0\n",
            "           3       0.00      0.00      0.00         0\n",
            "           4       0.29      0.56      0.38        34\n",
            "           5       0.00      0.00      0.00         0\n",
            "           6       0.00      0.00      0.00        11\n",
            "           7       0.00      0.00      0.00         1\n",
            "           8       0.00      0.00      0.00         1\n",
            "           9       0.00      0.00      0.00         2\n",
            "          11       0.00      0.00      0.00         1\n",
            "          12       0.00      0.00      0.00         1\n",
            "          13       0.12      0.29      0.17        35\n",
            "          14       0.54      0.57      0.55       164\n",
            "          15       0.00      0.00      0.00        13\n",
            "          16       0.00      0.00      0.00         1\n",
            "          17       0.00      0.00      0.00         3\n",
            "          18       0.00      0.00      0.00        17\n",
            "          20       0.00      0.00      0.00        16\n",
            "          21       0.00      0.00      0.00         1\n",
            "          22       0.24      0.16      0.20        55\n",
            "          24       0.00      0.00      0.00         1\n",
            "          26       0.00      0.00      0.00         2\n",
            "          28       0.00      0.00      0.00         1\n",
            "          29       0.00      0.00      0.00         1\n",
            "          31       0.00      0.00      0.00         1\n",
            "          32       0.00      0.00      0.00         1\n",
            "          35       0.00      0.00      0.00         1\n",
            "          37       0.00      0.00      0.00         1\n",
            "          38       0.00      0.00      0.00         1\n",
            "          44       0.00      0.00      0.00         1\n",
            "          47       0.00      0.00      0.00         5\n",
            "          48       0.00      0.00      0.00         6\n",
            "          49       0.00      0.00      0.00         1\n",
            "          50       0.00      0.00      0.00         7\n",
            "          51       0.00      0.00      0.00         3\n",
            "          53       0.00      0.00      0.00         1\n",
            "          54       0.00      0.00      0.00         1\n",
            "          55       0.00      0.00      0.00         1\n",
            "          56       0.00      0.00      0.00         1\n",
            "          58       0.00      0.00      0.00         1\n",
            "\n",
            "    accuracy                           0.33       395\n",
            "   macro avg       0.03      0.04      0.03       395\n",
            "weighted avg       0.29      0.33      0.31       395\n",
            "\n"
          ]
        },
        {
          "name": "stderr",
          "output_type": "stream",
          "text": [
            "/Users/parani/Documents/GitHub/SDGP-SE4/venv/lib/python3.12/site-packages/sklearn/metrics/_classification.py:1509: UndefinedMetricWarning: Precision is ill-defined and being set to 0.0 in labels with no predicted samples. Use `zero_division` parameter to control this behavior.\n",
            "  _warn_prf(average, modifier, f\"{metric.capitalize()} is\", len(result))\n",
            "/Users/parani/Documents/GitHub/SDGP-SE4/venv/lib/python3.12/site-packages/sklearn/metrics/_classification.py:1509: UndefinedMetricWarning: Recall is ill-defined and being set to 0.0 in labels with no true samples. Use `zero_division` parameter to control this behavior.\n",
            "  _warn_prf(average, modifier, f\"{metric.capitalize()} is\", len(result))\n",
            "/Users/parani/Documents/GitHub/SDGP-SE4/venv/lib/python3.12/site-packages/sklearn/metrics/_classification.py:1509: UndefinedMetricWarning: Precision is ill-defined and being set to 0.0 in labels with no predicted samples. Use `zero_division` parameter to control this behavior.\n",
            "  _warn_prf(average, modifier, f\"{metric.capitalize()} is\", len(result))\n",
            "/Users/parani/Documents/GitHub/SDGP-SE4/venv/lib/python3.12/site-packages/sklearn/metrics/_classification.py:1509: UndefinedMetricWarning: Recall is ill-defined and being set to 0.0 in labels with no true samples. Use `zero_division` parameter to control this behavior.\n",
            "  _warn_prf(average, modifier, f\"{metric.capitalize()} is\", len(result))\n",
            "/Users/parani/Documents/GitHub/SDGP-SE4/venv/lib/python3.12/site-packages/sklearn/metrics/_classification.py:1509: UndefinedMetricWarning: Precision is ill-defined and being set to 0.0 in labels with no predicted samples. Use `zero_division` parameter to control this behavior.\n",
            "  _warn_prf(average, modifier, f\"{metric.capitalize()} is\", len(result))\n",
            "/Users/parani/Documents/GitHub/SDGP-SE4/venv/lib/python3.12/site-packages/sklearn/metrics/_classification.py:1509: UndefinedMetricWarning: Recall is ill-defined and being set to 0.0 in labels with no true samples. Use `zero_division` parameter to control this behavior.\n",
            "  _warn_prf(average, modifier, f\"{metric.capitalize()} is\", len(result))\n"
          ]
        }
      ],
      "source": [
        "from sklearn.metrics import classification_report\n",
        "\n",
        "print(classification_report(Y_test, Y_predictions))"
      ]
    },
    {
      "cell_type": "code",
      "execution_count": 529,
      "metadata": {},
      "outputs": [],
      "source": [
        "import pickle\n",
        "with open('knnModel.pkl', 'wb') as f:\n",
        "    pickle.dump(model, f)\n",
        "\n",
        "f = open('knnModel.pkl', 'rb')  # 'r' for reading; can be omitted\n",
        "mod = pickle.load(f)"
      ]
    },
    {
      "cell_type": "code",
      "execution_count": 530,
      "metadata": {},
      "outputs": [
        {
          "data": {
            "text/plain": [
              "array([14])"
            ]
          },
          "execution_count": 530,
          "metadata": {},
          "output_type": "execute_result"
        }
      ],
      "source": [
        "dummy_values = np.array([[0, 401, 541, 2, 428]\n",
        "                        ])\n",
        "\n",
        "predictions = mod.predict(dummy_values)\n",
        "\n",
        "predictions\n"
      ]
    },
    {
      "cell_type": "code",
      "execution_count": 531,
      "metadata": {},
      "outputs": [
        {
          "data": {
            "text/plain": [
              "['B.Tech']"
            ]
          },
          "execution_count": 531,
          "metadata": {},
          "output_type": "execute_result"
        }
      ],
      "source": [
        "list(label_encoder.inverse_transform(predictions))"
      ]
    },
    {
      "cell_type": "code",
      "execution_count": 532,
      "metadata": {},
      "outputs": [
        {
          "name": "stdout",
          "output_type": "stream",
          "text": [
            "[943, 541, 766, 134, 11, 482, 531, 749, 868, 248, 65, 364, 131, 583, 519, 385, 863, 913, 746, 229, 663, 455, 786, 101, 834, 355, 457, 591, 968, 436, 523, 914, 209, 424, 451, 218, 157, 180, 74, 889, 441, 658, 967, 44, 540, 5, 637, 201, 988, 601, 99, 54, 484, 794, 554, 928, 165, 407, 578, 465, 607, 520, 310, 349, 366, 389, 452, 367, 299, 696, 1006, 817, 871, 569, 467, 357, 13, 887, 289, 393, 648, 300, 370, 281, 93, 844, 450, 388, 478, 52, 196, 141, 699, 969, 700, 908, 673, 18, 95, 635, 9, 371, 492, 650, 183, 75, 426, 690, 488, 814, 122, 185, 603, 785, 344, 346, 709, 742, 311, 150, 149, 35, 186, 964, 634, 280, 792, 402, 162, 304, 669, 322, 259, 31, 647, 200, 422, 434, 972, 235, 68, 137, 774, 883, 225, 495, 12, 429, 416, 971, 924, 716, 915, 257, 279, 979, 126, 469, 920, 629, 829, 917, 937, 617, 489, 927, 503, 879, 437, 563, 132, 72, 333, 118, 894, 589, 369, 853, 92, 649, 907, 518, 890, 274, 574, 240, 446, 47, 431, 702, 71, 847, 975, 638, 282, 123, 345, 977, 810, 848, 770, 809, 762, 381, 613, 615, 991, 1000, 865, 485, 517, 640, 934, 641, 727, 343, 882, 535, 818, 508, 832, 691, 855, 852, 244, 230, 102, 697, 999, 730, 756, 415, 790, 347, 627, 117, 573, 140, 930, 984, 476, 76, 193, 133, 735, 171, 600, 798, 888, 572, 475, 689, 69, 997, 0, 748, 861, 662, 110, 771, 793, 26, 932, 684, 58, 234, 836, 643, 544, 974, 919, 621, 178, 815, 293, 158, 963, 255, 602, 143, 423, 148, 530, 91, 409, 577, 301, 211, 39, 611, 329, 769, 715, 111, 713, 330, 105, 144, 575, 392, 81, 898, 48, 303, 472, 135, 354, 874, 976, 670, 850, 527, 28, 128, 789, 493, 657, 73, 903, 61, 383, 724, 241, 902, 606, 256, 479, 321, 70, 776, 858, 900, 618, 965, 947, 221, 940, 382, 758, 460, 378, 291, 597, 251, 761, 129, 594, 688, 549, 664, 372, 302, 698, 528, 729, 1003, 242, 269, 87, 981, 703, 497, 262, 911, 568, 249, 427, 895, 124, 66, 30, 214, 336, 866, 177, 779, 42, 721, 931, 156, 168, 254, 694, 708, 626, 288, 998, 941, 529, 323, 515, 598, 725, 440, 337, 327, 659, 642, 396, 433, 198, 445, 439, 339, 16, 2, 936, 298, 826, 909, 513, 505, 872, 509, 160, 338, 215, 620, 921, 846, 23, 1002, 487, 685, 989, 462, 660, 571, 604, 400, 458, 734, 430, 956, 189, 731, 737, 646, 405, 435, 676, 695, 438, 231, 533, 188, 318, 53, 804, 386, 939, 78, 421, 233, 990, 666, 284, 120, 88, 151, 562, 353, 316, 910, 632, 477, 612, 655, 443, 720, 486, 175, 473, 586, 780, 356, 127, 1001, 454, 17, 680, 166, 243, 292, 686, 534, 121, 614, 996, 107, 875, 905, 294, 628, 348, 747, 442, 272, 712, 856, 675, 644, 849, 116, 41, 276, 833, 929, 83, 506, 468, 926, 610, 447, 559, 970, 362, 258, 757, 491, 203, 511, 667, 952, 444, 380, 743, 802, 84, 146, 283, 64, 772, 152, 413, 955, 414, 45, 819, 379, 516, 552, 40, 315, 139, 309, 784, 904, 208, 546, 153, 923, 596, 226, 538, 334, 159, 651, 995, 403, 870, 556, 993, 187, 922, 828, 342, 821, 238, 275, 671, 239, 4, 361, 711, 707, 854, 496, 557, 237, 365, 7, 901, 202, 82, 220, 432, 499, 46, 733, 474, 142, 341, 376, 125, 494, 526, 859, 114, 722, 96, 43, 398, 851, 942, 740, 741, 213, 206, 755, 410, 838, 803, 36, 287, 67, 227, 324, 502, 718, 326, 308, 521, 216, 21, 264, 525, 765, 512, 27, 783, 678, 418, 797, 543, 10, 38, 97, 625, 782, 824, 387, 169, 236, 767, 80, 885, 210, 877, 312, 167, 1005, 332, 222, 796, 191, 719, 358, 752, 759, 717, 624, 622, 404, 679, 94, 906, 412, 352, 408, 645, 411, 661, 22, 260, 295, 567, 317, 925, 428, 897, 331, 842, 960, 391, 843, 807, 840, 892, 781, 982, 184, 417, 85, 182, 548, 918, 164, 553, 32, 791, 961, 79, 368, 307, 498, 106, 891, 286, 867, 524, 253, 481, 587, 551, 710, 115, 86, 390, 812, 775, 197, 55, 878, 20, 325, 320, 328, 839, 576, 994, 77, 90, 565, 98, 986, 806, 138, 958, 593, 584, 8, 550, 375, 119, 857, 630, 705, 953, 401, 277, 6, 456, 176, 912, 373, 581, 579, 760, 161, 873, 319, 57, 706, 738, 701, 397, 633, 656, 267, 194, 190, 677, 736, 547, 609, 945, 501, 459, 273, 464, 453, 374, 278, 542, 881, 340, 271, 351, 580, 992, 860, 980, 394, 219, 966, 507, 726, 899, 820, 704, 732, 714, 37, 835, 359, 514, 764, 808, 623, 681, 753, 49, 471, 799, 170, 395, 616, 483, 172, 745, 950, 582, 247, 181, 406, 590, 682, 654, 463, 155, 130, 265, 377, 250, 687, 944, 896, 59, 636, 448, 822, 777, 605, 773, 588, 224, 232, 957, 261, 15, 56, 63, 154, 893, 653, 763, 973, 880, 668, 19, 545, 246, 751, 263, 425, 831, 723, 163, 916, 949, 480, 876, 1007, 864, 268, 795, 837, 816, 985, 314, 987, 884, 174, 335, 595, 869, 29, 195, 296, 693, 192, 683, 449, 560, 750, 204, 461, 89, 631, 490, 564, 399, 212, 103, 536, 179, 978, 305, 24, 768, 297, 845, 532, 933, 217, 555, 983, 951, 360, 34, 290, 619, 113, 805, 500, 813, 1004, 33, 800, 470, 51, 109, 754, 199, 100, 419, 566, 270, 510, 350, 674, 363, 62, 537, 788, 938, 946, 886, 778, 665, 522, 266, 652, 558, 787, 285, 672, 830, 466, 147, 692, 306, 608, 585, 420, 108, 592, 313, 823, 825, 228, 599, 1, 948, 954, 252, 739, 811, 112, 136, 862, 245, 539, 561, 744, 207, 223, 173, 639, 570, 384, 104, 205, 801, 728, 50, 827, 959, 3, 145, 60, 14, 504, 935, 962, 841, 25]\n"
          ]
        }
      ],
      "source": [
        "list2 =[]\n",
        "for x in df['Skills'].unique():\n",
        "    list2.append(x)\n",
        "print(list2)\n"
      ]
    }
  ],
  "metadata": {
    "colab": {
      "provenance": []
    },
    "kernelspec": {
      "display_name": "Python 3",
      "name": "python3"
    },
    "language_info": {
      "codemirror_mode": {
        "name": "ipython",
        "version": 3
      },
      "file_extension": ".py",
      "mimetype": "text/x-python",
      "name": "python",
      "nbconvert_exporter": "python",
      "pygments_lexer": "ipython3",
      "version": "3.12.1"
    }
  },
  "nbformat": 4,
  "nbformat_minor": 0
}
