{
  "cells": [
    {
      "cell_type": "markdown",
      "metadata": {
        "id": "KgcazQfER98t"
      },
      "source": [
        "# **Importing Libs**\n",
        "\n"
      ]
    },
    {
      "cell_type": "code",
      "execution_count": 512,
      "metadata": {
        "id": "dyk6ODPwRpxP"
      },
      "outputs": [],
      "source": [
        "import pandas as pd\n",
        "import numpy as np"
      ]
    },
    {
      "cell_type": "code",
      "execution_count": 513,
      "metadata": {
        "id": "s8iwLGxIR2vj"
      },
      "outputs": [],
      "source": [
        "df = pd.read_csv('dataset1.csv')"
      ]
    },
    {
      "cell_type": "code",
      "execution_count": 514,
      "metadata": {
        "colab": {
          "base_uri": "https://localhost:8080/"
        },
        "id": "cMqG-SvYSqUz",
        "outputId": "0390727f-27bd-4d45-e3ca-f585317ab349"
      },
      "outputs": [
        {
          "data": {
            "text/plain": [
              "(1195, 6)"
            ]
          },
          "execution_count": 514,
          "metadata": {},
          "output_type": "execute_result"
        }
      ],
      "source": [
        "df.shape"
      ]
    },
    {
      "cell_type": "code",
      "execution_count": 515,
      "metadata": {
        "colab": {
          "base_uri": "https://localhost:8080/",
          "height": 206
        },
        "id": "3INVtkzvSsCe",
        "outputId": "5653790a-718d-4b72-b192-912e4cddd02c"
      },
      "outputs": [
        {
          "data": {
            "text/html": [
              "<div>\n",
              "<style scoped>\n",
              "    .dataframe tbody tr th:only-of-type {\n",
              "        vertical-align: middle;\n",
              "    }\n",
              "\n",
              "    .dataframe tbody tr th {\n",
              "        vertical-align: top;\n",
              "    }\n",
              "\n",
              "    .dataframe thead th {\n",
              "        text-align: right;\n",
              "    }\n",
              "</style>\n",
              "<table border=\"1\" class=\"dataframe\">\n",
              "  <thead>\n",
              "    <tr style=\"text-align: right;\">\n",
              "      <th></th>\n",
              "      <th>Gender</th>\n",
              "      <th>Interest</th>\n",
              "      <th>Skills</th>\n",
              "      <th>Any_Add_Cert_Courses</th>\n",
              "      <th>Cert_Courses_Desc</th>\n",
              "      <th>Course</th>\n",
              "    </tr>\n",
              "  </thead>\n",
              "  <tbody>\n",
              "    <tr>\n",
              "      <th>0</th>\n",
              "      <td>Female</td>\n",
              "      <td>Cloud computing</td>\n",
              "      <td>Python;SQL;Java</td>\n",
              "      <td>Yes</td>\n",
              "      <td>Linux,Git</td>\n",
              "      <td>B.Sc</td>\n",
              "    </tr>\n",
              "    <tr>\n",
              "      <th>1</th>\n",
              "      <td>Male</td>\n",
              "      <td>Technology</td>\n",
              "      <td>Critical Thinking, Analytic Thinking, SQL, Pro...</td>\n",
              "      <td>Yes</td>\n",
              "      <td>Microsoft certification</td>\n",
              "      <td>B.E</td>\n",
              "    </tr>\n",
              "    <tr>\n",
              "      <th>2</th>\n",
              "      <td>Female</td>\n",
              "      <td>Understand human behaviour</td>\n",
              "      <td>People management;Communication skills</td>\n",
              "      <td>Yes</td>\n",
              "      <td>Resilience psychology</td>\n",
              "      <td>BA</td>\n",
              "    </tr>\n",
              "    <tr>\n",
              "      <th>3</th>\n",
              "      <td>Female</td>\n",
              "      <td>Sales/Marketing;Trading;Understand human behav...</td>\n",
              "      <td>Accounting Skills;Critical Thinking</td>\n",
              "      <td>No</td>\n",
              "      <td>No</td>\n",
              "      <td>MBA</td>\n",
              "    </tr>\n",
              "    <tr>\n",
              "      <th>4</th>\n",
              "      <td>Female</td>\n",
              "      <td>Technology</td>\n",
              "      <td>\\r\\nPLC Allen Bradley;PLC Ladder Logic;LabVIEW...</td>\n",
              "      <td>Yes</td>\n",
              "      <td>Extreme Productivity (Blinkist Summary)</td>\n",
              "      <td>B.Tech</td>\n",
              "    </tr>\n",
              "  </tbody>\n",
              "</table>\n",
              "</div>"
            ],
            "text/plain": [
              "   Gender                                           Interest  \\\n",
              "0  Female                                    Cloud computing   \n",
              "1    Male                                         Technology   \n",
              "2  Female                         Understand human behaviour   \n",
              "3  Female  Sales/Marketing;Trading;Understand human behav...   \n",
              "4  Female                                         Technology   \n",
              "\n",
              "                                              Skills Any_Add_Cert_Courses  \\\n",
              "0                                    Python;SQL;Java                  Yes   \n",
              "1  Critical Thinking, Analytic Thinking, SQL, Pro...                  Yes   \n",
              "2             People management;Communication skills                  Yes   \n",
              "3                Accounting Skills;Critical Thinking                   No   \n",
              "4  \\r\\nPLC Allen Bradley;PLC Ladder Logic;LabVIEW...                  Yes   \n",
              "\n",
              "                         Cert_Courses_Desc  Course  \n",
              "0                                Linux,Git    B.Sc  \n",
              "1                 Microsoft certification      B.E  \n",
              "2                    Resilience psychology      BA  \n",
              "3                                       No     MBA  \n",
              "4  Extreme Productivity (Blinkist Summary)  B.Tech  "
            ]
          },
          "execution_count": 515,
          "metadata": {},
          "output_type": "execute_result"
        }
      ],
      "source": [
        "df.head()"
      ]
    },
    {
      "cell_type": "code",
      "execution_count": 516,
      "metadata": {
        "id": "S35I_JxYS-1Y"
      },
      "outputs": [],
      "source": [
        "X_Values = df.iloc[:,:-1].values\n",
        "Y_Values = df.iloc[:,-1:].values"
      ]
    },
    {
      "cell_type": "code",
      "execution_count": 517,
      "metadata": {
        "colab": {
          "base_uri": "https://localhost:8080/"
        },
        "id": "L-pBDc_LUqkz",
        "outputId": "f705cd1d-3e85-4e83-eb1f-030a30f5fbb9"
      },
      "outputs": [
        {
          "data": {
            "text/plain": [
              "array([['Female', 'Cloud computing', 'Python;SQL;Java', 'Yes',\n",
              "        'Linux,Git'],\n",
              "       ['Male', 'Technology',\n",
              "        'Critical Thinking, Analytic Thinking, SQL, Programming, Work under Pressure, Logical Skills, Problem Solving skills',\n",
              "        'Yes', 'Microsoft certification\\xa0'],\n",
              "       ['Female', 'Understand human behaviour',\n",
              "        'People management;Communication skills', 'Yes',\n",
              "        'Resilience psychology'],\n",
              "       ...,\n",
              "       ['Male', 'Technology;Content Writing',\n",
              "        'Programming Language skills;Critical Thinking;Analytical Skills;Editing;Data Visualization skills( Power Bi/ Tableau );SQL',\n",
              "        'Yes', 'Sql, Python,tableau,data science'],\n",
              "       ['Male', 'Financial Analysis, Technology',\n",
              "        'AI, Java, SQL, C++, R, Linux', 'No', 'No'],\n",
              "       ['Male', 'Animation', '2D/3D Animation', 'Yes', '3D Animation']],\n",
              "      dtype=object)"
            ]
          },
          "execution_count": 517,
          "metadata": {},
          "output_type": "execute_result"
        }
      ],
      "source": [
        "X_Values"
      ]
    },
    {
      "cell_type": "code",
      "execution_count": 518,
      "metadata": {
        "colab": {
          "base_uri": "https://localhost:8080/"
        },
        "id": "HYjfFnLzUsmi",
        "outputId": "7df6edbc-27a2-414e-e03b-a0496191376b"
      },
      "outputs": [
        {
          "data": {
            "text/plain": [
              "array([['B.Sc'],\n",
              "       ['B.E'],\n",
              "       ['BA'],\n",
              "       ...,\n",
              "       ['B.Tech'],\n",
              "       ['BE'],\n",
              "       ['B.Sc']], dtype=object)"
            ]
          },
          "execution_count": 518,
          "metadata": {},
          "output_type": "execute_result"
        }
      ],
      "source": [
        "Y_Values"
      ]
    },
    {
      "cell_type": "code",
      "execution_count": 519,
      "metadata": {
        "id": "2zAGzZWdVJrO"
      },
      "outputs": [],
      "source": [
        "from sklearn.model_selection import train_test_split\n",
        "\n",
        "# Spliting train and test values\n",
        "X_train, X_test, Y_train, Y_test = train_test_split(X_Values,Y_Values,test_size=1/3,random_state=0)"
      ]
    }
  ],
  "metadata": {
    "colab": {
      "provenance": []
    },
    "kernelspec": {
      "display_name": "Python 3",
      "name": "python3"
    },
    "language_info": {
      "codemirror_mode": {
        "name": "ipython",
        "version": 3
      },
      "file_extension": ".py",
      "mimetype": "text/x-python",
      "name": "python",
      "nbconvert_exporter": "python",
      "pygments_lexer": "ipython3",
      "version": "3.12.1"
    }
  },
  "nbformat": 4,
  "nbformat_minor": 0
}
